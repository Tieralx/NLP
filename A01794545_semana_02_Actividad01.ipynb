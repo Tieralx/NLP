{
  "nbformat": 4,
  "nbformat_minor": 0,
  "metadata": {
    "colab": {
      "provenance": [],
      "collapsed_sections": [
        "759SG4TyfbUn",
        "Zj-h4drXD-X9",
        "BY6yifxscfrx",
        "k_ewoagic5jc",
        "70StdqAZa9E9"
      ]
    },
    "kernelspec": {
      "name": "python3",
      "display_name": "Python 3"
    },
    "language_info": {
      "name": "python"
    }
  },
  "cells": [
    {
      "cell_type": "markdown",
      "source": [
        "#**Maestría en Inteligencia Artificial Aplicada**\n",
        "##**Curso: Procesamiento de Lenguaje Natural (NLP)**\n",
        "###Tecnológico de Monterrey\n",
        "###Prof Luis Eduardo Falcón Morales\n",
        "\n",
        "## **Adtividad de la Semana 02**\n",
        "###**Introducción al procesamiento de texto.**"
      ],
      "metadata": {
        "id": "759SG4TyfbUn"
      }
    },
    {
      "cell_type": "markdown",
      "source": [
        "En esta actividad deberás utilizar los datos del siguiente archivo que se encuentra en Canvas:\n",
        "\n",
        "MNA_NLP_semana_02_Actividad_datos.txt\n",
        "\n",
        "El archivo contiene comentarios en inglés sobre servicios de comida de la página de Yelp: https://www.yelp.com/ .\n",
        "\n",
        "Son mil comentarios y forman parte del conjunto de datos que se encuentra en el Machine Learning Repository de la UCI, llamado \"Sentiment Labelled Sentences\": https://archive.ics.uci.edu/ml/datasets/Sentiment+Labelled+Sentences#\n"
      ],
      "metadata": {
        "id": "6ue1YAKx3XDo"
      }
    },
    {
      "cell_type": "markdown",
      "source": [
        "#**Parte 1. Cargamos los datos.**   "
      ],
      "metadata": {
        "id": "Zj-h4drXD-X9"
      }
    },
    {
      "cell_type": "markdown",
      "source": [
        "Cargar los datos del archivo indicado y obtener una lista de longitud de 1000 strings/comentarios.\n",
        "\n",
        "Por el momento solamente requerimos las bibliotecas de Numpy y re, para el manejo de los arreglos y de las expresiones regulares en Python.\n",
        "\n",
        "En particular, no necesitarás en esta actividad la biblioteca de Pandas.\n",
        "\n",
        "###**NOTA: En esta actividad no debes importar nada más, con estas dos bibliotecas será *suficiente*.**"
      ],
      "metadata": {
        "id": "BY6yifxscfrx"
      }
    },
    {
      "cell_type": "code",
      "source": [
        "from google.colab import drive\n",
        "drive.mount('/content/drive')"
      ],
      "metadata": {
        "id": "tCICOatW8ORt",
        "outputId": "4325d419-ae1c-44da-82b7-6e54e02abf7d",
        "colab": {
          "base_uri": "https://localhost:8080/"
        }
      },
      "execution_count": 1,
      "outputs": [
        {
          "output_type": "stream",
          "name": "stdout",
          "text": [
            "Mounted at /content/drive\n"
          ]
        }
      ]
    },
    {
      "cell_type": "code",
      "source": [
        "import numpy as np    # importamos Numpy para el manejo de los arreglos.\n",
        "import re             # importamos re para el manejo de las expresiones regulares.\n"
      ],
      "metadata": {
        "id": "OJ26dAfhdFnf"
      },
      "execution_count": 2,
      "outputs": []
    },
    {
      "cell_type": "code",
      "source": [
        "# Ejecuta las siguientes instrucciones para cargar la información del achivo dado:\n",
        "\n",
        "with open('/content/drive/MyDrive/Colab Notebooks/NLP/MNA_NLP_semana_02_Actividad_datos.txt',        # puedes actualizar la ruta a tu archivo, en dado caso.\n",
        "          mode='r',     # abrimos el archivo en modo lectura.\n",
        "          ) as f:\n",
        "    docs = f.readlines()    # separamos cada comentario por líneas\n",
        "\n",
        "f.close()  # ya que tenemos la información en la variable docs, cerramos el archivo"
      ],
      "metadata": {
        "id": "QHUmJyjDdGNP"
      },
      "execution_count": 3,
      "outputs": []
    },
    {
      "cell_type": "code",
      "source": [
        "type(docs) == list   # Verifica que tu variable \"docs\" es una lista"
      ],
      "metadata": {
        "id": "L6WzrSrodG-Y",
        "outputId": "245025ee-8735-4e6c-ef5a-aae2fcdad64b",
        "colab": {
          "base_uri": "https://localhost:8080/"
        }
      },
      "execution_count": 4,
      "outputs": [
        {
          "output_type": "execute_result",
          "data": {
            "text/plain": [
              "True"
            ]
          },
          "metadata": {},
          "execution_count": 4
        }
      ]
    },
    {
      "cell_type": "code",
      "source": [
        "len(docs)==1000  # verifica que la longitud de \"docs\" es de mil comentarios."
      ],
      "metadata": {
        "id": "QIK1u9WS2FtS",
        "outputId": "5c7ce6b4-4fef-4ba6-c2f1-5455970ec7e9",
        "colab": {
          "base_uri": "https://localhost:8080/"
        }
      },
      "execution_count": 5,
      "outputs": [
        {
          "output_type": "execute_result",
          "data": {
            "text/plain": [
              "True"
            ]
          },
          "metadata": {},
          "execution_count": 5
        }
      ]
    },
    {
      "cell_type": "code",
      "source": [
        "docs[0:10]     # observa algunos de los primeros comentarios"
      ],
      "metadata": {
        "id": "9AMLIfQvJqNZ",
        "outputId": "39c59972-152f-42ee-ce7f-aaf498d77927",
        "colab": {
          "base_uri": "https://localhost:8080/"
        }
      },
      "execution_count": 6,
      "outputs": [
        {
          "output_type": "execute_result",
          "data": {
            "text/plain": [
              "['Wow... Loved this place.\\n',\n",
              " 'Crust is not good.\\n',\n",
              " 'Not tasty and the texture was just nasty.\\n',\n",
              " 'Stopped by during the late May bank holiday off Rick Steve recommendation and loved it.\\n',\n",
              " 'The selection on the menu was great and so were the prices.\\n',\n",
              " 'Now I am getting angry and I want my damn pho.\\n',\n",
              " \"Honeslty it didn't taste THAT fresh.)\\n\",\n",
              " 'The potatoes were like rubber and you could tell they had been made up ahead of time being kept under a warmer.\\n',\n",
              " 'The fries were great too.\\n',\n",
              " 'A great touch.\\n']"
            ]
          },
          "metadata": {},
          "execution_count": 6
        }
      ]
    },
    {
      "cell_type": "markdown",
      "source": [
        "#**Parte 2: sección de preguntas (regex).**   \n"
      ],
      "metadata": {
        "id": "k_ewoagic5jc"
      }
    },
    {
      "cell_type": "markdown",
      "source": [
        "##**Instrucciones:**\n",
        "\n",
        "###**A continuación deberás contestar cada una de las preguntas que te piden usando expresiones regulares (regex).**\n",
        "\n",
        "###**Por el momento no hay restricción en cuanto al número de líneas de código que agregues, pero trata de incluir las mínimas posibles.**"
      ],
      "metadata": {
        "id": "X-eMJa3DFCIV"
      }
    },
    {
      "cell_type": "markdown",
      "source": [
        "*   **Pregunta 1.**\n",
        "\n",
        "Busca y elimina todos los saltos de línea '\\n' que se encuentran al final de cada comentario.\n",
        "\n",
        "Una vez finalizado, imprime los primeros 10 comentarios del resultado obtenido.\n"
      ],
      "metadata": {
        "id": "78nJMemzn5a5"
      }
    },
    {
      "cell_type": "code",
      "source": [
        "res = list()\n",
        "for i in range(len(docs)):\n",
        "  res.append(re.sub(r'\\n', '', docs[i]))\n",
        "res[0:10]"
      ],
      "metadata": {
        "id": "PwbYYIuZn8pE",
        "colab": {
          "base_uri": "https://localhost:8080/"
        },
        "outputId": "f7a20fdd-9a16-492f-b561-4e5d483773b4"
      },
      "execution_count": 7,
      "outputs": [
        {
          "output_type": "execute_result",
          "data": {
            "text/plain": [
              "['Wow... Loved this place.',\n",
              " 'Crust is not good.',\n",
              " 'Not tasty and the texture was just nasty.',\n",
              " 'Stopped by during the late May bank holiday off Rick Steve recommendation and loved it.',\n",
              " 'The selection on the menu was great and so were the prices.',\n",
              " 'Now I am getting angry and I want my damn pho.',\n",
              " \"Honeslty it didn't taste THAT fresh.)\",\n",
              " 'The potatoes were like rubber and you could tell they had been made up ahead of time being kept under a warmer.',\n",
              " 'The fries were great too.',\n",
              " 'A great touch.']"
            ]
          },
          "metadata": {},
          "execution_count": 7
        }
      ]
    },
    {
      "cell_type": "code",
      "source": [],
      "metadata": {
        "id": "j-0qeh2Jn8l1"
      },
      "execution_count": 7,
      "outputs": []
    },
    {
      "cell_type": "markdown",
      "source": [
        "*   **Pregunta 2.**  \n",
        "\n",
        "Busca e imprime todas las palabras que terminan con dos o más signos de admiración seguidos, por ejemplo \"!!!\".\n",
        "\n",
        "Debes imprimir tanto la palabra como la totalidad de signos de admiración que le siguen.\n",
        "\n",
        "Indica cuántos resultados obtuviste.\n",
        "\n"
      ],
      "metadata": {
        "id": "VWeKQC93ctEo"
      }
    },
    {
      "cell_type": "code",
      "source": [
        "res2=list()\n",
        "i=0\n",
        "pat = r'\\b\\w+!{2,}'\n",
        "for i in range(len(docs)):\n",
        "  if len(re.findall(pat,docs[i])) > 0:\n",
        "    res2.append(re.findall(pat,docs[i]))\n",
        "\n",
        "res2"
      ],
      "metadata": {
        "id": "0p3kMXfddICc",
        "colab": {
          "base_uri": "https://localhost:8080/"
        },
        "outputId": "3e7434aa-aeb0-46b5-dc25-d38b3d720a1d"
      },
      "execution_count": 8,
      "outputs": [
        {
          "output_type": "execute_result",
          "data": {
            "text/plain": [
              "[['Firehouse!!!!!'],\n",
              " ['APPETIZERS!!!'],\n",
              " ['amazing!!!'],\n",
              " ['buffet!!!'],\n",
              " ['good!!'],\n",
              " ['it!!!!'],\n",
              " ['DELICIOUS!!'],\n",
              " ['amazing!!'],\n",
              " ['shawarrrrrrma!!!!!!'],\n",
              " ['yucky!!!'],\n",
              " ['steak!!!!!'],\n",
              " ['delicious!!!'],\n",
              " ['far!!'],\n",
              " ['biscuits!!!'],\n",
              " ['dry!!'],\n",
              " ['disappointing!!!'],\n",
              " ['awesome!!'],\n",
              " ['Up!!'],\n",
              " ['FLY!!!!!!!!'],\n",
              " ['here!!!'],\n",
              " ['great!!!!!!!!!!!!!!'],\n",
              " ['packed!!'],\n",
              " ['otherwise!!'],\n",
              " ['amazing!!!!!!!!!!!!!!!!!!!'],\n",
              " ['style!!'],\n",
              " ['disappointed!!']]"
            ]
          },
          "metadata": {},
          "execution_count": 8
        }
      ]
    },
    {
      "cell_type": "code",
      "source": [
        "print(f'Se encontraron {len(res2)} palabras con mas de dos !')"
      ],
      "metadata": {
        "colab": {
          "base_uri": "https://localhost:8080/"
        },
        "id": "w9lU2ajii1OG",
        "outputId": "6dabcda1-e714-47bb-f6ac-3ca5b3ea5d3f"
      },
      "execution_count": 9,
      "outputs": [
        {
          "output_type": "stream",
          "name": "stdout",
          "text": [
            "Se encontraron 26 palabras con mas de dos !\n"
          ]
        }
      ]
    },
    {
      "cell_type": "markdown",
      "source": [
        "*   **Pregunta 3.**  \n",
        "\n",
        "Busca e imprime todas las palabras que están escritas totalmente en mayúsculas. Cada coincidencia debe ser una sola palabra.\n",
        "\n",
        "Indica cuántas palabras encontraste.\n",
        "\n"
      ],
      "metadata": {
        "id": "-s3okBqL96TT"
      }
    },
    {
      "cell_type": "code",
      "source": [
        "res3=list()\n",
        "i=0\n",
        "\n",
        "for i in range(len(docs)):\n",
        "  x = re.findall(r'\\b\\w[A-Z]{1,}|\\bI\\b',docs[i])\n",
        "  if len(x)> 0:\n",
        "    if len(x) > 1:\n",
        "      for j in range(len(x)):\n",
        "       res3.append(x[j])\n",
        "    else:\n",
        "      res3.append(x[0])\n",
        "\n",
        "\n",
        "res3"
      ],
      "metadata": {
        "id": "yKHJkZKo_nW5",
        "colab": {
          "base_uri": "https://localhost:8080/"
        },
        "outputId": "61bb43e4-817a-4727-f328-1636cff37351"
      },
      "execution_count": 10,
      "outputs": [
        {
          "output_type": "execute_result",
          "data": {
            "text/plain": [
              "['I',\n",
              " 'I',\n",
              " 'THAT',\n",
              " 'I',\n",
              " 'I',\n",
              " 'I',\n",
              " 'I',\n",
              " 'I',\n",
              " 'I',\n",
              " 'I',\n",
              " 'I',\n",
              " 'I',\n",
              " 'I',\n",
              " 'I',\n",
              " 'I',\n",
              " 'APPETIZERS',\n",
              " 'I',\n",
              " 'I',\n",
              " 'I',\n",
              " 'I',\n",
              " 'I',\n",
              " 'I',\n",
              " 'I',\n",
              " 'WILL',\n",
              " 'NEVER',\n",
              " 'EVER',\n",
              " 'STEP',\n",
              " 'FORWARD',\n",
              " 'IN',\n",
              " 'IT',\n",
              " 'AGAIN',\n",
              " 'I',\n",
              " 'LOVED',\n",
              " 'I',\n",
              " 'AND',\n",
              " 'REAL',\n",
              " 'I',\n",
              " 'I',\n",
              " 'I',\n",
              " 'I',\n",
              " 'BITCHES',\n",
              " 'I',\n",
              " 'I',\n",
              " 'I',\n",
              " 'I',\n",
              " 'NYC',\n",
              " 'I',\n",
              " 'I',\n",
              " 'I',\n",
              " 'I',\n",
              " 'I',\n",
              " 'I',\n",
              " 'I',\n",
              " 'STALE',\n",
              " 'I',\n",
              " 'I',\n",
              " 'DELICIOUS',\n",
              " 'I',\n",
              " 'I',\n",
              " 'I',\n",
              " 'I',\n",
              " 'I',\n",
              " 'I',\n",
              " 'I',\n",
              " 'I',\n",
              " 'I',\n",
              " 'I',\n",
              " 'I',\n",
              " 'I',\n",
              " 'I',\n",
              " 'I',\n",
              " 'I',\n",
              " 'WORST',\n",
              " 'EXPERIENCE',\n",
              " 'EVER',\n",
              " 'I',\n",
              " 'ALL',\n",
              " 'I',\n",
              " 'BARGAIN',\n",
              " 'I',\n",
              " 'TV',\n",
              " 'NONE',\n",
              " 'I',\n",
              " 'FREEZING',\n",
              " 'AYCE',\n",
              " 'I',\n",
              " 'I',\n",
              " 'I',\n",
              " 'I',\n",
              " 'I',\n",
              " 'I',\n",
              " 'I',\n",
              " 'I',\n",
              " 'I',\n",
              " 'I',\n",
              " 'I',\n",
              " 'I',\n",
              " 'I',\n",
              " 'FLAVOR',\n",
              " 'I',\n",
              " 'I',\n",
              " 'I',\n",
              " 'I',\n",
              " 'I',\n",
              " 'I',\n",
              " 'I',\n",
              " 'I',\n",
              " 'I',\n",
              " 'I',\n",
              " 'I',\n",
              " 'I',\n",
              " 'I',\n",
              " 'I',\n",
              " 'I',\n",
              " 'I',\n",
              " 'I',\n",
              " 'I',\n",
              " 'NEVER',\n",
              " 'I',\n",
              " 'I',\n",
              " 'I',\n",
              " 'I',\n",
              " 'BBQ',\n",
              " 'I',\n",
              " 'I',\n",
              " 'UNREAL',\n",
              " 'I',\n",
              " 'I',\n",
              " 'I',\n",
              " 'I',\n",
              " 'I',\n",
              " 'I',\n",
              " 'OMG',\n",
              " 'I',\n",
              " 'BETTER',\n",
              " 'I',\n",
              " 'I',\n",
              " 'BLAND',\n",
              " 'I',\n",
              " 'I',\n",
              " 'I',\n",
              " 'I',\n",
              " 'I',\n",
              " 'I',\n",
              " 'I',\n",
              " 'RUDE',\n",
              " 'INCONSIDERATE',\n",
              " 'MANAGEMENT',\n",
              " 'I',\n",
              " 'I',\n",
              " 'WILL',\n",
              " 'NEVER',\n",
              " 'EVER',\n",
              " 'GO',\n",
              " 'BACK',\n",
              " 'AND',\n",
              " 'HAVE',\n",
              " 'TOLD',\n",
              " 'MANY',\n",
              " 'PEOPLE',\n",
              " 'WHAT',\n",
              " 'HAD',\n",
              " 'HAPPENED',\n",
              " 'I',\n",
              " 'I',\n",
              " 'I',\n",
              " 'I',\n",
              " 'I',\n",
              " 'I',\n",
              " 'I',\n",
              " 'I',\n",
              " 'I',\n",
              " 'I',\n",
              " 'I',\n",
              " 'I',\n",
              " 'I',\n",
              " 'TOTAL',\n",
              " 'WASTE',\n",
              " 'OF',\n",
              " 'TIME',\n",
              " 'I',\n",
              " 'I',\n",
              " 'I',\n",
              " 'I',\n",
              " 'I',\n",
              " 'I',\n",
              " 'I',\n",
              " 'I',\n",
              " 'I',\n",
              " 'I',\n",
              " 'I',\n",
              " 'I',\n",
              " 'I',\n",
              " 'I',\n",
              " 'I',\n",
              " 'FS',\n",
              " 'I',\n",
              " 'I',\n",
              " 'I',\n",
              " 'I',\n",
              " 'I',\n",
              " 'I',\n",
              " 'I',\n",
              " 'I',\n",
              " 'I',\n",
              " 'AZ',\n",
              " 'I',\n",
              " 'I',\n",
              " 'I',\n",
              " 'I',\n",
              " 'LOVED',\n",
              " 'I',\n",
              " 'I',\n",
              " 'I',\n",
              " 'I',\n",
              " 'I',\n",
              " 'I',\n",
              " 'CONCLUSION',\n",
              " 'I',\n",
              " 'I',\n",
              " 'I',\n",
              " 'I',\n",
              " 'I',\n",
              " 'I',\n",
              " 'BEST',\n",
              " 'I',\n",
              " 'GO',\n",
              " 'NOW',\n",
              " 'I',\n",
              " 'I',\n",
              " 'GC',\n",
              " 'I',\n",
              " 'I',\n",
              " 'I',\n",
              " 'I',\n",
              " 'I',\n",
              " 'I',\n",
              " 'I',\n",
              " 'I',\n",
              " 'I',\n",
              " 'I',\n",
              " 'I',\n",
              " 'AVOID',\n",
              " 'THIS',\n",
              " 'ESTABLISHMENT',\n",
              " 'I',\n",
              " 'I',\n",
              " 'I',\n",
              " 'I',\n",
              " 'I',\n",
              " 'AN',\n",
              " 'HOUR',\n",
              " 'I',\n",
              " 'I',\n",
              " 'I',\n",
              " 'I',\n",
              " 'I',\n",
              " 'I',\n",
              " 'I',\n",
              " 'I',\n",
              " 'NASTY',\n",
              " 'OMG',\n",
              " 'I',\n",
              " 'I',\n",
              " 'NO',\n",
              " 'I',\n",
              " 'I',\n",
              " 'I',\n",
              " 'BEST',\n",
              " 'I',\n",
              " 'I',\n",
              " 'I',\n",
              " 'I',\n",
              " 'THE',\n",
              " 'OWNERS',\n",
              " 'REALLY',\n",
              " 'REALLY',\n",
              " 'I',\n",
              " 'I',\n",
              " 'I',\n",
              " 'I',\n",
              " 'I',\n",
              " 'I',\n",
              " 'I',\n",
              " 'I',\n",
              " 'I',\n",
              " 'I',\n",
              " 'I',\n",
              " 'I',\n",
              " 'PERFECT',\n",
              " 'SCREAMS',\n",
              " 'LEGIT',\n",
              " 'I',\n",
              " 'MGM',\n",
              " 'I',\n",
              " 'I',\n",
              " 'I',\n",
              " 'I',\n",
              " 'I',\n",
              " 'I',\n",
              " 'I',\n",
              " 'I',\n",
              " 'I',\n",
              " 'I',\n",
              " 'I',\n",
              " 'I',\n",
              " 'I',\n",
              " 'I',\n",
              " 'I',\n",
              " 'BEST',\n",
              " 'I',\n",
              " 'I',\n",
              " 'FLY',\n",
              " 'FLY',\n",
              " 'I',\n",
              " 'I',\n",
              " 'I',\n",
              " 'I',\n",
              " 'I',\n",
              " 'I',\n",
              " 'I',\n",
              " 'I',\n",
              " 'I',\n",
              " 'I',\n",
              " 'I',\n",
              " 'I',\n",
              " 'FANTASTIC',\n",
              " 'I',\n",
              " 'I',\n",
              " 'I',\n",
              " 'I',\n",
              " 'GREAT',\n",
              " 'OK',\n",
              " 'I',\n",
              " 'I',\n",
              " 'WAY',\n",
              " 'I',\n",
              " 'I',\n",
              " 'MUST',\n",
              " 'HAVE',\n",
              " 'I',\n",
              " 'I',\n",
              " 'I',\n",
              " 'I',\n",
              " 'I',\n",
              " 'I',\n",
              " 'OK',\n",
              " 'I',\n",
              " 'I',\n",
              " 'I',\n",
              " 'I',\n",
              " 'OVERPRICED',\n",
              " 'I',\n",
              " 'I',\n",
              " 'I',\n",
              " 'I',\n",
              " 'I',\n",
              " 'I',\n",
              " 'I',\n",
              " 'I',\n",
              " 'I',\n",
              " 'I',\n",
              " 'I',\n",
              " 'I',\n",
              " 'I',\n",
              " 'I',\n",
              " 'I',\n",
              " 'I',\n",
              " 'I',\n",
              " 'I',\n",
              " 'I',\n",
              " 'I',\n",
              " 'I',\n",
              " 'I',\n",
              " 'I',\n",
              " 'I',\n",
              " 'I',\n",
              " 'BARE',\n",
              " 'HANDS',\n",
              " 'I',\n",
              " 'I',\n",
              " 'I',\n",
              " 'I',\n",
              " 'I',\n",
              " 'I',\n",
              " 'I',\n",
              " 'I',\n",
              " 'I',\n",
              " 'I',\n",
              " 'I',\n",
              " 'I',\n",
              " 'I',\n",
              " 'I',\n",
              " 'I',\n",
              " 'WEAK',\n",
              " 'I',\n",
              " 'I',\n",
              " 'I',\n",
              " 'I',\n",
              " 'I',\n",
              " 'I',\n",
              " 'I',\n",
              " 'I',\n",
              " 'SHOULD',\n",
              " 'I',\n",
              " 'I',\n",
              " 'I',\n",
              " 'RI',\n",
              " 'I',\n",
              " 'I',\n",
              " 'I',\n",
              " 'WAAAAAA',\n",
              " 'I',\n",
              " 'I',\n",
              " 'I',\n",
              " 'I',\n",
              " 'VERY',\n",
              " 'I',\n",
              " 'I',\n",
              " 'I',\n",
              " 'NOT',\n",
              " 'I',\n",
              " 'I',\n",
              " 'I',\n",
              " 'I',\n",
              " 'I',\n",
              " 'I',\n",
              " 'I',\n",
              " 'I',\n",
              " 'I',\n",
              " 'I',\n",
              " 'I',\n",
              " 'I',\n",
              " 'I',\n",
              " 'I',\n",
              " 'I',\n",
              " 'I',\n",
              " 'I',\n",
              " 'I',\n",
              " 'I',\n",
              " 'I',\n",
              " 'I',\n",
              " 'I',\n",
              " 'I',\n",
              " 'I']"
            ]
          },
          "metadata": {},
          "execution_count": 10
        }
      ]
    },
    {
      "cell_type": "code",
      "source": [
        "print(f'Se encontraron {len(res3)} palabras en mayuscula')"
      ],
      "metadata": {
        "id": "L3q08aq69sNn",
        "colab": {
          "base_uri": "https://localhost:8080/"
        },
        "outputId": "89000c7a-587e-4e65-f0aa-f78e1ef57c3f"
      },
      "execution_count": 11,
      "outputs": [
        {
          "output_type": "stream",
          "name": "stdout",
          "text": [
            "Se encontraron 445 palabras en mayuscula\n"
          ]
        }
      ]
    },
    {
      "cell_type": "markdown",
      "source": [
        "*   **Pregunta 4.**  \n",
        "\n",
        "Busca e imprime los comentarios en donde todos los caracteres alfabéticos (letras) están en mayúsculas.\n",
        "\n",
        "Cada coincidencia encontrada debe ser todo el comentario/enunciado.\n",
        "\n",
        "Indica cuántos resultados obtuviste.\n"
      ],
      "metadata": {
        "id": "GX8eYyDoMZma"
      }
    },
    {
      "cell_type": "code",
      "source": [
        "res4=list()\n",
        "i=0\n",
        "pattern = r'^((?<!\\w)[A-Z\\s!,.?\\'&-]+(?!\\w))\\Z'\n",
        "for i in range(len(docs)):\n",
        "  if len(re.findall(pattern,docs[i])) > 0:\n",
        "    res4.append(re.findall(pattern,docs[i]))\n",
        "\n",
        "\n",
        "res4"
      ],
      "metadata": {
        "id": "K8VuZxvTMYj6",
        "colab": {
          "base_uri": "https://localhost:8080/"
        },
        "outputId": "dfa5e007-5bff-4142-eb1d-007f313683bc"
      },
      "execution_count": 12,
      "outputs": [
        {
          "output_type": "execute_result",
          "data": {
            "text/plain": [
              "[['DELICIOUS!!\\n'],\n",
              " ['RUDE & INCONSIDERATE MANAGEMENT.\\n'],\n",
              " ['WILL NEVER EVER GO BACK AND HAVE TOLD MANY PEOPLE WHAT HAD HAPPENED.\\n'],\n",
              " ['TOTAL WASTE OF TIME.\\n'],\n",
              " ['AVOID THIS ESTABLISHMENT!\\n']]"
            ]
          },
          "metadata": {},
          "execution_count": 12
        }
      ]
    },
    {
      "cell_type": "code",
      "source": [
        "print(f'Se encontraron {len(res4)} comentarios con todos los caracteres en mayuscula')"
      ],
      "metadata": {
        "id": "PmKgX7sCMcDx",
        "colab": {
          "base_uri": "https://localhost:8080/"
        },
        "outputId": "0600f5de-58e7-45cc-9d1c-412db20bdaed"
      },
      "execution_count": 13,
      "outputs": [
        {
          "output_type": "stream",
          "name": "stdout",
          "text": [
            "Se encontraron 5 comentarios con todos los caracteres en mayuscula\n"
          ]
        }
      ]
    },
    {
      "cell_type": "markdown",
      "source": [
        "*   **Pregunta 5.**  \n",
        "\n",
        "Busca e imprime todas las palabras que tengan una vocal acentuada, del tipo á, é, í, ó, ú.\n",
        "\n",
        "Indica cuántos resultados obtuviste."
      ],
      "metadata": {
        "id": "a1i6qv7-McmU"
      }
    },
    {
      "cell_type": "code",
      "source": [
        "res5=list()\n",
        "i=0\n",
        "pat = r'\\b\\w*[áéíóú]\\w*\\b'\n",
        "for i in range(len(docs)):\n",
        "  if len(re.findall(pat,docs[i])) > 0:\n",
        "    res5.append(re.findall(pat,docs[i]))\n",
        "\n",
        "res5"
      ],
      "metadata": {
        "id": "nZZ5zKUOMeGD",
        "colab": {
          "base_uri": "https://localhost:8080/"
        },
        "outputId": "c9c88f9f-18bb-4419-cea5-dd7806803ebf"
      },
      "execution_count": 14,
      "outputs": [
        {
          "output_type": "execute_result",
          "data": {
            "text/plain": [
              "[['fiancé'], ['Café'], ['puréed']]"
            ]
          },
          "metadata": {},
          "execution_count": 14
        }
      ]
    },
    {
      "cell_type": "code",
      "source": [
        "print(f'Se encontraron {len(res5)} palabras con una vocal acentuada, del tipo á, é, í, ó, ú')"
      ],
      "metadata": {
        "id": "l1mFvUEZMe8s",
        "colab": {
          "base_uri": "https://localhost:8080/"
        },
        "outputId": "92c05422-591b-4409-a936-5bca22413081"
      },
      "execution_count": 15,
      "outputs": [
        {
          "output_type": "stream",
          "name": "stdout",
          "text": [
            "Se encontraron 3 palabras con una vocal acentuada, del tipo á, é, í, ó, ú\n"
          ]
        }
      ]
    },
    {
      "cell_type": "markdown",
      "source": [
        "*   **Pregunta 6.**  \n",
        "\n",
        "Busca e imprime todas las cantidades numéricas monetarias, enteras o con decimales, que inician con el símbolo $\\$$.\n",
        "\n",
        "Indica cuántos resultados obtuviste."
      ],
      "metadata": {
        "id": "ZmPiAI82Mfb3"
      }
    },
    {
      "cell_type": "code",
      "source": [
        "res6=list()\n",
        "i=0\n",
        "pat = r'(?:\\$\\d{1,3}(?:,\\d{3})*|\\$\\d+)(?:\\.\\d{2})?'\n",
        "for i in range(len(docs)):\n",
        "  if len(re.findall(pat,docs[i])) > 0:\n",
        "    res6.append(re.findall(pat,docs[i]))\n",
        "\n",
        "res6"
      ],
      "metadata": {
        "id": "6vhe9-Y-MhL9",
        "colab": {
          "base_uri": "https://localhost:8080/"
        },
        "outputId": "283d8ba0-0754-423e-dbd6-c4adc4c90e71"
      },
      "execution_count": 16,
      "outputs": [
        {
          "output_type": "execute_result",
          "data": {
            "text/plain": [
              "[['$20'], ['$4.00'], ['$17'], ['$3'], ['$35'], ['$7.85'], ['$12'], ['$11.99']]"
            ]
          },
          "metadata": {},
          "execution_count": 16
        }
      ]
    },
    {
      "cell_type": "code",
      "source": [
        "print(f'Se encontraron {len(res6)} cantidades numéricas monetarias, enteras o con decimales, que inician con el símbolo $')"
      ],
      "metadata": {
        "id": "_t0a5xWDMhQ5",
        "colab": {
          "base_uri": "https://localhost:8080/"
        },
        "outputId": "2a29f7a1-9963-4181-bbb1-8d506a0f5e68"
      },
      "execution_count": 17,
      "outputs": [
        {
          "output_type": "stream",
          "name": "stdout",
          "text": [
            "Se encontraron 8 cantidades numéricas monetarias, enteras o con decimales, que inician con el símbolo $\n"
          ]
        }
      ]
    },
    {
      "cell_type": "markdown",
      "source": [
        "*   **Pregunta 7.**  \n",
        "\n",
        "Busca e imprime todas las palabras que sean variantes de la palabra \"love\", sin importar si incluyen mayúsculas o minúsculas, o la manera en que esté conjugada o alguna otra variación que se haga con dicha palabra.\n",
        "\n",
        "Indica cuántos resultados obtuviste."
      ],
      "metadata": {
        "id": "2j-HpvhwMhq2"
      }
    },
    {
      "cell_type": "code",
      "source": [
        "res7=list()\n",
        "i=0\n",
        "pat =  re.compile(r\"\\blove\\w*\\b\", re.IGNORECASE)\n",
        "for i in range(len(docs)):\n",
        "  if len(re.findall(pat,docs[i])) > 0:\n",
        "    res7.append(re.findall(pat,docs[i]))\n",
        "\n",
        "res7"
      ],
      "metadata": {
        "id": "kqqyRChVMjol",
        "colab": {
          "base_uri": "https://localhost:8080/"
        },
        "outputId": "dc1e9f24-1c28-472b-b1b6-e0b22bd30be1"
      },
      "execution_count": 18,
      "outputs": [
        {
          "output_type": "execute_result",
          "data": {
            "text/plain": [
              "[['Loved'],\n",
              " ['loved'],\n",
              " ['Loved'],\n",
              " ['love'],\n",
              " ['loves'],\n",
              " ['LOVED'],\n",
              " ['lovers'],\n",
              " ['love'],\n",
              " ['lovers'],\n",
              " ['Love'],\n",
              " ['loved'],\n",
              " ['loved'],\n",
              " ['love'],\n",
              " ['love'],\n",
              " ['love'],\n",
              " ['loved'],\n",
              " ['love'],\n",
              " ['loved'],\n",
              " ['Love'],\n",
              " ['LOVED'],\n",
              " ['love'],\n",
              " ['lovely'],\n",
              " ['love'],\n",
              " ['lovely'],\n",
              " ['love'],\n",
              " ['lover'],\n",
              " ['loved'],\n",
              " ['love'],\n",
              " ['love'],\n",
              " ['love'],\n",
              " ['love'],\n",
              " ['love'],\n",
              " ['love'],\n",
              " ['love'],\n",
              " ['love']]"
            ]
          },
          "metadata": {},
          "execution_count": 18
        }
      ]
    },
    {
      "cell_type": "code",
      "source": [
        "print(f'Se encontraron {len(res7)} variantes de la palabra \"love\"')"
      ],
      "metadata": {
        "id": "UXd0VQluMj_x",
        "colab": {
          "base_uri": "https://localhost:8080/"
        },
        "outputId": "607491fe-c734-4632-ffd4-0073a0c0ae50"
      },
      "execution_count": 19,
      "outputs": [
        {
          "output_type": "stream",
          "name": "stdout",
          "text": [
            "Se encontraron 35 variantes de la palabra \"love\"\n"
          ]
        }
      ]
    },
    {
      "cell_type": "markdown",
      "source": [
        "*   **Pregunta 8.**  \n",
        "\n",
        "Busca e imprime todas las palabras, variantes de \"so\" y \"good\", que tengan dos o más \"o\" en \"so\" y 3 o más \"o\" en good.\n",
        "\n",
        "Indica cuántas encontraste.\n"
      ],
      "metadata": {
        "id": "Ctb-NTY3MkYG"
      }
    },
    {
      "cell_type": "code",
      "source": [
        "res8=list()\n",
        "i=0\n",
        "pat =  re.compile(r'\\bso{2,}|go{3,}d\\w+\\b', re.IGNORECASE)\n",
        "for i in range(len(docs)):\n",
        "  if len(re.findall(pat,docs[i])) > 0:\n",
        "    res8.append(re.findall(pat,docs[i]))\n",
        "\n",
        "res8"
      ],
      "metadata": {
        "id": "A8Nf3B_cMlqg",
        "colab": {
          "base_uri": "https://localhost:8080/"
        },
        "outputId": "59e204c9-8058-44ba-d2a8-bc1b2cbdd035"
      },
      "execution_count": 39,
      "outputs": [
        {
          "output_type": "execute_result",
          "data": {
            "text/plain": [
              "[['Sooooo'],\n",
              " ['soo'],\n",
              " ['soooo'],\n",
              " ['soo'],\n",
              " ['soo'],\n",
              " ['gooodd'],\n",
              " ['soo'],\n",
              " ['soo'],\n",
              " ['soooooo'],\n",
              " ['soo'],\n",
              " ['soo'],\n",
              " ['soooo'],\n",
              " ['soo'],\n",
              " ['soo']]"
            ]
          },
          "metadata": {},
          "execution_count": 39
        }
      ]
    },
    {
      "cell_type": "code",
      "source": [
        "print(f'Se encontraron {len(res8)} variantes de \"so\" y \"good\", que tengan dos o más \"o\" en \"so\" y 3 o más \"o\" en good')"
      ],
      "metadata": {
        "id": "svS4-vvPMl6f",
        "colab": {
          "base_uri": "https://localhost:8080/"
        },
        "outputId": "f574907b-aab4-4fda-9b68-b5620cdb7b31"
      },
      "execution_count": 21,
      "outputs": [
        {
          "output_type": "stream",
          "name": "stdout",
          "text": [
            "Se encontraron 13 variantes de \"so\" y \"good\", que tengan dos o más \"o\" en \"so\" y 3 o más \"o\" en good\n"
          ]
        }
      ]
    },
    {
      "cell_type": "markdown",
      "source": [
        "*   **Pregunta 9.**  \n",
        "\n",
        "Busca e imprime todas las palabras que tengan una longitud mayor estrictamente a 10 caracteres alfabéticos.\n",
        "\n",
        "No se consideran los signos de puntuación o caracteres especiales en la longitud de estas cadenas, solo caracteres alfabéticos en mayúsculas o minúsculas.\n",
        "\n",
        "Indica la cantidad de palabras encontradas.\n"
      ],
      "metadata": {
        "id": "hkak1opjMmlk"
      }
    },
    {
      "cell_type": "code",
      "source": [
        "res9=list()\n",
        "i=0\n",
        "pat =  r'\\b(?=\\w{10,}\\b)\\w+'\n",
        "for i in range(len(docs)):\n",
        "  x = re.findall(pat,docs[i])\n",
        "  if len(x)> 0:\n",
        "    if len(x) > 1:\n",
        "      for j in range(len(x)):\n",
        "       res9.append(x[j])\n",
        "    else:\n",
        "      res9.append(x[0])\n",
        "res9"
      ],
      "metadata": {
        "id": "PYxdp3uhMoD0",
        "colab": {
          "base_uri": "https://localhost:8080/"
        },
        "outputId": "595fb258-c817-4a1d-ced2-6ab0e14202be"
      },
      "execution_count": 22,
      "outputs": [
        {
          "output_type": "execute_result",
          "data": {
            "text/plain": [
              "['recommendation',\n",
              " 'overpriced',\n",
              " 'recommended',\n",
              " 'restaurant',\n",
              " 'overwhelmed',\n",
              " 'restaurant',\n",
              " 'inexpensive',\n",
              " 'establishment',\n",
              " 'refreshing',\n",
              " 'sunglasses',\n",
              " 'imaginative',\n",
              " 'absolutely',\n",
              " 'restaurant',\n",
              " 'APPETIZERS',\n",
              " 'definitely',\n",
              " 'apparently',\n",
              " 'opportunity',\n",
              " 'experiencing',\n",
              " 'underwhelming',\n",
              " 'relationship',\n",
              " 'unsatisfying',\n",
              " 'Everything',\n",
              " 'disappointing',\n",
              " 'experience',\n",
              " 'outrageously',\n",
              " 'Tigerlilly',\n",
              " 'personable',\n",
              " 'restaurant',\n",
              " 'definitely',\n",
              " 'atmosphere',\n",
              " 'experience',\n",
              " 'disappointing',\n",
              " 'Phenomenal',\n",
              " 'Definitely',\n",
              " 'overpriced',\n",
              " 'management',\n",
              " 'selections',\n",
              " 'expectations',\n",
              " 'restaurants',\n",
              " 'suggestions',\n",
              " 'disappointed',\n",
              " 'considering',\n",
              " 'restaurant',\n",
              " 'highlights',\n",
              " 'Unfortunately',\n",
              " 'everything',\n",
              " 'immediately',\n",
              " 'reasonably',\n",
              " 'Restaurant',\n",
              " 'ingredients',\n",
              " 'waitresses',\n",
              " 'Everything',\n",
              " 'accommodations',\n",
              " 'vegetarian',\n",
              " 'atmosphere',\n",
              " 'maintaining',\n",
              " 'definitely',\n",
              " 'absolutely',\n",
              " 'overcooked',\n",
              " 'incredible',\n",
              " 'Interesting',\n",
              " 'disrespected',\n",
              " 'EXPERIENCE',\n",
              " 'accordingly',\n",
              " 'unbelievable',\n",
              " 'uninspired',\n",
              " 'experience',\n",
              " 'cheeseburger',\n",
              " 'descriptions',\n",
              " 'flavourful',\n",
              " 'restaurant',\n",
              " 'privileged',\n",
              " 'complaints',\n",
              " 'godfathers',\n",
              " 'restaurant',\n",
              " 'atmosphere',\n",
              " 'inexpensive',\n",
              " 'absolutely',\n",
              " 'proclaimed',\n",
              " 'disappointed',\n",
              " 'Veggitarian',\n",
              " 'outstanding',\n",
              " 'recommendation',\n",
              " 'disappointed',\n",
              " 'restaurant',\n",
              " 'definitely',\n",
              " 'disappointed',\n",
              " 'incredible',\n",
              " 'neighborhood',\n",
              " 'disappointed',\n",
              " 'convenient',\n",
              " 'incredibly',\n",
              " 'everything',\n",
              " 'corporation',\n",
              " 'delightful',\n",
              " 'reasonable',\n",
              " 'considering',\n",
              " 'exceptional',\n",
              " 'shawarrrrrrma',\n",
              " 'disappointed',\n",
              " 'vinaigrette',\n",
              " 'restaurant',\n",
              " 'especially',\n",
              " 'immediately',\n",
              " 'unbelievably',\n",
              " 'atmosphere',\n",
              " 'Everything',\n",
              " 'replenished',\n",
              " 'disappointed',\n",
              " 'whatsoever',\n",
              " 'vegetables',\n",
              " 'atmosphere',\n",
              " 'appetizers',\n",
              " 'enthusiastic',\n",
              " 'Outstanding',\n",
              " 'restaurant',\n",
              " 'Definitely',\n",
              " 'despicable',\n",
              " 'comfortable',\n",
              " 'interesting',\n",
              " 'INCONSIDERATE',\n",
              " 'MANAGEMENT',\n",
              " 'outshining',\n",
              " 'definitely',\n",
              " 'experience',\n",
              " 'experience',\n",
              " 'reasonable',\n",
              " 'considering',\n",
              " 'incredible',\n",
              " 'transcendant',\n",
              " 'atmosphere',\n",
              " 'perfection',\n",
              " 'impeccable',\n",
              " 'disappointment',\n",
              " 'disappointed',\n",
              " 'accountant',\n",
              " 'frustrated',\n",
              " 'definitely',\n",
              " 'disappointed',\n",
              " 'completely',\n",
              " 'overwhelmed',\n",
              " 'professional',\n",
              " 'companions',\n",
              " 'everything',\n",
              " 'everywhere',\n",
              " 'Furthermore',\n",
              " 'complaints',\n",
              " 'connisseur',\n",
              " 'restaurant',\n",
              " 'absolutley',\n",
              " 'definitely',\n",
              " 'restaurant',\n",
              " 'combination',\n",
              " 'connoisseur',\n",
              " 'definitely',\n",
              " 'difference',\n",
              " 'Definitely',\n",
              " 'profiterole',\n",
              " 'outstanding',\n",
              " 'reasonable',\n",
              " 'acknowledged',\n",
              " 'forgetting',\n",
              " 'margaritas',\n",
              " 'disappoint',\n",
              " 'ventilation',\n",
              " 'beautifully',\n",
              " 'definitely',\n",
              " 'absolutely',\n",
              " 'restaurant',\n",
              " 'establishment',\n",
              " 'extraordinary',\n",
              " 'humiliated',\n",
              " 'CONCLUSION',\n",
              " 'experience',\n",
              " 'incredible',\n",
              " 'Thoroughly',\n",
              " 'disappointed',\n",
              " 'cheesecurds',\n",
              " 'Reasonably',\n",
              " 'Everything',\n",
              " 'disappointed',\n",
              " 'restaurant',\n",
              " 'Everything',\n",
              " 'interesting',\n",
              " 'management',\n",
              " 'restaurant',\n",
              " 'experienced',\n",
              " 'opportunity',\n",
              " 'yellowtail',\n",
              " 'disgraceful',\n",
              " 'experience',\n",
              " 'particular',\n",
              " 'restaurants',\n",
              " 'ESTABLISHMENT',\n",
              " 'restaurant',\n",
              " 'vinegrette',\n",
              " 'disgusting',\n",
              " 'recommended',\n",
              " 'management',\n",
              " 'disappointed',\n",
              " 'recommended',\n",
              " 'acknowledged',\n",
              " 'presentation',\n",
              " 'accomodate',\n",
              " 'Philadelphia',\n",
              " 'satisfying',\n",
              " 'Scottsdale',\n",
              " 'disappointed',\n",
              " 'definitely',\n",
              " 'businesses',\n",
              " 'experience',\n",
              " 'disappointing',\n",
              " 'management',\n",
              " 'grandmother',\n",
              " 'especially',\n",
              " 'drastically',\n",
              " 'impeccable',\n",
              " 'informative',\n",
              " 'Experience',\n",
              " 'Disappointed',\n",
              " 'constructed',\n",
              " 'comfortable',\n",
              " 'restaurant',\n",
              " 'experience',\n",
              " 'atmosphere',\n",
              " 'violinists',\n",
              " 'personally',\n",
              " 'convenient',\n",
              " 'perfection',\n",
              " 'Smashburger',\n",
              " 'disappoint',\n",
              " 'cheeseburger',\n",
              " 'neighborhood',\n",
              " 'themselves',\n",
              " 'atmosphere',\n",
              " 'reasonable',\n",
              " 'soundtrack',\n",
              " 'absolutely',\n",
              " 'definitely',\n",
              " 'disappointed',\n",
              " 'definitely',\n",
              " 'hospitality',\n",
              " 'recommending',\n",
              " 'atmosphere',\n",
              " 'atmosphere',\n",
              " 'disappointed',\n",
              " 'everything',\n",
              " 'deliciously',\n",
              " 'compliments',\n",
              " 'recommendation',\n",
              " 'definitely',\n",
              " 'establishment',\n",
              " 'revisiting',\n",
              " 'restaurant',\n",
              " 'experience',\n",
              " 'calligraphy',\n",
              " 'restaurant',\n",
              " 'restaurant',\n",
              " 'vegetarian',\n",
              " 'management',\n",
              " 'vinegrette',\n",
              " 'definitely',\n",
              " 'definately',\n",
              " 'affordable',\n",
              " 'absolutely',\n",
              " 'traditional',\n",
              " 'bartenders',\n",
              " 'absolutely',\n",
              " 'margaritas',\n",
              " 'restaraunt',\n",
              " 'combination',\n",
              " 'girlfriend',\n",
              " 'Unfortunately',\n",
              " 'experience',\n",
              " 'flavorless',\n",
              " 'describing',\n",
              " 'everything',\n",
              " 'atmosphere',\n",
              " 'Wienerschnitzel',\n",
              " 'vegetables',\n",
              " 'overcooked',\n",
              " 'unfortunately',\n",
              " 'bruschetta',\n",
              " 'mozzarella',\n",
              " 'experience',\n",
              " 'overpriced',\n",
              " 'consistent',\n",
              " 'OVERPRICED',\n",
              " 'officially',\n",
              " 'definitely',\n",
              " 'containers',\n",
              " 'experience',\n",
              " 'considering',\n",
              " 'overpriced',\n",
              " 'especially',\n",
              " 'reasonable',\n",
              " 'restaurant',\n",
              " 'Everything',\n",
              " 'sandwiches',\n",
              " 'everything',\n",
              " 'restaurant',\n",
              " 'highlighted',\n",
              " 'completely',\n",
              " 'delightful',\n",
              " 'experience',\n",
              " 'flavorless',\n",
              " 'definately',\n",
              " 'Albondigas',\n",
              " 'absolutely',\n",
              " 'Mediterranean',\n",
              " 'selections',\n",
              " 'strawberry',\n",
              " 'unprofessional',\n",
              " 'experience',\n",
              " 'satisfying',\n",
              " 'occasional',\n",
              " 'anticipated',\n",
              " 'disappointing',\n",
              " 'unexperienced',\n",
              " 'disrespected',\n",
              " 'steakhouse',\n",
              " 'understand',\n",
              " 'experience',\n",
              " 'disgusting',\n",
              " 'professional',\n",
              " 'restaurants',\n",
              " 'definitely',\n",
              " 'Disappointing',\n",
              " 'experience',\n",
              " 'WAAAAAAyyyyyyyyyy',\n",
              " 'ridiculous',\n",
              " 'reservation',\n",
              " 'imagination',\n",
              " 'vegetables',\n",
              " 'undercooked',\n",
              " 'disappointed',\n",
              " 'overpriced',\n",
              " 'Vegetarian',\n",
              " 'disappointment',\n",
              " 'disappointment',\n",
              " 'deuchebaggery',\n",
              " 'disappointed',\n",
              " 'disappointment',\n",
              " 'restaurant',\n",
              " 'immediately',\n",
              " 'Unfortunately',\n",
              " 'disapppointment',\n",
              " 'correction',\n",
              " 'Overpriced',\n",
              " 'circumstances',\n",
              " 'restaurant',\n",
              " 'vegetables',\n",
              " 'undercooked',\n",
              " 'impressive',\n",
              " 'caterpillar',\n",
              " 'presentation',\n",
              " 'disappointed',\n",
              " 'experience',\n",
              " 'underwhelming']"
            ]
          },
          "metadata": {},
          "execution_count": 22
        }
      ]
    },
    {
      "cell_type": "code",
      "source": [
        "print(f'Se encontraron {len(res9)} palabras con una longitud mayor estrictamente a 10 caracteres alfabéticos')"
      ],
      "metadata": {
        "id": "BR7e2F4FMof-",
        "colab": {
          "base_uri": "https://localhost:8080/"
        },
        "outputId": "38ac883e-50aa-4794-db1a-583736dcaaaa"
      },
      "execution_count": 23,
      "outputs": [
        {
          "output_type": "stream",
          "name": "stdout",
          "text": [
            "Se encontraron 359 palabras con una longitud mayor estrictamente a 10 caracteres alfabéticos\n"
          ]
        }
      ]
    },
    {
      "cell_type": "markdown",
      "source": [
        "*   **Pregunta 10.**  \n",
        "\n",
        "Busca e imprime todas las palabras que inician con una letra mayúscula y terminan con una minúscula, pero que además no sea la primera palabra del comentario/string.\n",
        "\n",
        "Indica la cantidad de resultados obtenidos."
      ],
      "metadata": {
        "id": "ApjTNzSxMpDc"
      }
    },
    {
      "cell_type": "code",
      "source": [
        "res10=list()\n",
        "i=0\n",
        "pat =  r'(?<!^)(?<!\")\\b[A-Z][a-z]+\\b(?![a-z])'\n",
        "for i in range(len(docs)):\n",
        "  x = re.findall(pat,docs[i])\n",
        "  if len(x)> 0:\n",
        "    if len(x) > 1:\n",
        "      for j in range(len(x)):\n",
        "       res10.append(x[j])\n",
        "    else:\n",
        "      res10.append(x[0])\n",
        "res10"
      ],
      "metadata": {
        "id": "Vb0ndRGAMqdL",
        "colab": {
          "base_uri": "https://localhost:8080/"
        },
        "outputId": "effbdeab-bfb9-40ed-df5a-d504b752f802"
      },
      "execution_count": 24,
      "outputs": [
        {
          "output_type": "execute_result",
          "data": {
            "text/plain": [
              "['Loved',\n",
              " 'May',\n",
              " 'Rick',\n",
              " 'Steve',\n",
              " 'Cape',\n",
              " 'Cod',\n",
              " 'Vegas',\n",
              " 'Burrittos',\n",
              " 'Blah',\n",
              " 'The',\n",
              " 'They',\n",
              " 'Mexican',\n",
              " 'Luke',\n",
              " 'Our',\n",
              " 'Hiro',\n",
              " 'Firehouse',\n",
              " 'Greek',\n",
              " 'Greek',\n",
              " 'Heart',\n",
              " 'Attack',\n",
              " 'Grill',\n",
              " 'Vegas',\n",
              " 'Dos',\n",
              " 'Gringos',\n",
              " 'Jeff',\n",
              " 'Really',\n",
              " 'Excalibur',\n",
              " 'Very',\n",
              " 'Bad',\n",
              " 'Customer',\n",
              " 'Service',\n",
              " 'Vegas',\n",
              " 'Rice',\n",
              " 'Company',\n",
              " 'Pho',\n",
              " 'Hard',\n",
              " 'Rock',\n",
              " 'Casino',\n",
              " 'Buffet',\n",
              " 'Tigerlilly',\n",
              " 'Yama',\n",
              " 'Thai',\n",
              " 'Indian',\n",
              " 'Not',\n",
              " 'Vegas',\n",
              " 'Lox',\n",
              " 'Subway',\n",
              " 'Subway',\n",
              " 'Vegas',\n",
              " 'Vegas',\n",
              " 'Mandalay',\n",
              " 'Bay',\n",
              " 'Great',\n",
              " 'Voodoo',\n",
              " 'Phoenix',\n",
              " 'Vegas',\n",
              " 'Khao',\n",
              " 'Soi',\n",
              " 'Lemon',\n",
              " 'Joey',\n",
              " 'Valley',\n",
              " 'Phoenix',\n",
              " 'Magazine',\n",
              " 'Pho',\n",
              " 'Fridays',\n",
              " 'Tasty',\n",
              " 'Jamaican',\n",
              " 'Bisque',\n",
              " 'Bussell',\n",
              " 'Sprouts',\n",
              " 'Risotto',\n",
              " 'Filet',\n",
              " 'Otto',\n",
              " 'Yeah',\n",
              " 'Honestly',\n",
              " 'Not',\n",
              " 'It',\n",
              " 'Also',\n",
              " 'Drinks',\n",
              " 'Vegas',\n",
              " 'Greek',\n",
              " 'Vegas',\n",
              " 'Veggitarian',\n",
              " 'Madison',\n",
              " 'Ironman',\n",
              " 'Jenni',\n",
              " 'Pho',\n",
              " 'Bachi',\n",
              " 'Burger',\n",
              " 'Pizza',\n",
              " 'Salads',\n",
              " 'They',\n",
              " 'Yelpers',\n",
              " 'Bachi',\n",
              " 'Service',\n",
              " 'English',\n",
              " 'Pizza',\n",
              " 'Hut',\n",
              " 'Seat',\n",
              " 'Standard',\n",
              " 'Thai',\n",
              " 'Tucson',\n",
              " 'Vegas',\n",
              " 'Chipotle',\n",
              " 'Baseball',\n",
              " 'Gordon',\n",
              " 'Ramsey',\n",
              " 'Steak',\n",
              " 'Vegas',\n",
              " 'The',\n",
              " 'Outstanding',\n",
              " 'Best',\n",
              " 'Food',\n",
              " 'Lobster',\n",
              " 'Bisque',\n",
              " 'Vegas',\n",
              " 'Eggplant',\n",
              " 'Green',\n",
              " 'Bean',\n",
              " 'Halibut',\n",
              " 'Vegas',\n",
              " 'Vegas',\n",
              " 'Vegas',\n",
              " 'Crystals',\n",
              " 'Aria',\n",
              " 'Ians',\n",
              " 'Bouchon',\n",
              " 'San',\n",
              " 'Francisco',\n",
              " 'Bay',\n",
              " 'Area',\n",
              " 'Buldogis',\n",
              " 'Gourmet',\n",
              " 'Hot',\n",
              " 'Dog',\n",
              " 'Steiners',\n",
              " 'Carly',\n",
              " 'Vegas',\n",
              " 'Camelback',\n",
              " 'Flower',\n",
              " 'Shop',\n",
              " 'Cartel',\n",
              " 'Coffee',\n",
              " 'Las',\n",
              " 'Vegas',\n",
              " 'Bunch',\n",
              " 'Very',\n",
              " 'Mom',\n",
              " 'Noca',\n",
              " 'Vegas',\n",
              " 'Sat',\n",
              " 'Sun',\n",
              " 'Mexican',\n",
              " 'Frenchman',\n",
              " 'Perfect',\n",
              " 'Vegas',\n",
              " 'Palm',\n",
              " 'This',\n",
              " 'Thai',\n",
              " 'Toast',\n",
              " 'Thai',\n",
              " 'Phoenix',\n",
              " 'Crema',\n",
              " 'Philadelphia',\n",
              " 'North',\n",
              " 'Scottsdale',\n",
              " 'Bloody',\n",
              " 'Mary',\n",
              " 'Pho',\n",
              " 'Caesar',\n",
              " 'Macarons',\n",
              " 'Experience',\n",
              " 'Very',\n",
              " 'Disappointed',\n",
              " 'Big',\n",
              " 'Bay',\n",
              " 'Plater',\n",
              " 'Italian',\n",
              " 'Vegas',\n",
              " 'Baba',\n",
              " 'Ganoush',\n",
              " 'Nobu',\n",
              " 'Smashburger',\n",
              " 'Panna',\n",
              " 'Cotta',\n",
              " 'Breeze',\n",
              " 'Mango',\n",
              " 'Magic',\n",
              " 'Pineapple',\n",
              " 'Delight',\n",
              " 'The',\n",
              " 'Strip',\n",
              " 'Steak',\n",
              " 'Paradise',\n",
              " 'Valley',\n",
              " 'Cibo',\n",
              " 'Thumbs',\n",
              " 'Up',\n",
              " 'Italian',\n",
              " 'Pros',\n",
              " 'Large',\n",
              " 'Nice',\n",
              " 'Great',\n",
              " 'The',\n",
              " 'Elk',\n",
              " 'Filet',\n",
              " 'Dylan',\n",
              " 'All',\n",
              " 'Han',\n",
              " 'Nan',\n",
              " 'Chicken',\n",
              " 'Bar',\n",
              " 'Edinburgh',\n",
              " 'Chinese',\n",
              " 'Indian',\n",
              " 'Chinese',\n",
              " 'Prices',\n",
              " 'Phoenix',\n",
              " 'Both',\n",
              " 'Hot',\n",
              " 'Sour',\n",
              " 'Egg',\n",
              " 'Flower',\n",
              " 'Soups',\n",
              " 'Stars',\n",
              " 'Sunday',\n",
              " 'Hunan',\n",
              " 'The',\n",
              " 'Pita',\n",
              " 'Wienerschnitzel',\n",
              " 'Maine',\n",
              " 'Lobster',\n",
              " 'Roll',\n",
              " 'Kabuki',\n",
              " 'Maria',\n",
              " 'Caballero',\n",
              " 'Wife',\n",
              " 'Everything',\n",
              " 'Strip',\n",
              " 'Costco',\n",
              " 'To',\n",
              " 'Place',\n",
              " 'Gyros',\n",
              " 'Japanese',\n",
              " 'Albondigas',\n",
              " 'Mediterranean',\n",
              " 'Chicken',\n",
              " 'Salad',\n",
              " 'Mellow',\n",
              " 'Mushroom',\n",
              " 'Thai',\n",
              " 'Vegas',\n",
              " 'Mmmm',\n",
              " 'Buffet',\n",
              " 'Bellagio',\n",
              " 'My',\n",
              " 'Vegas',\n",
              " 'Christmas',\n",
              " 'Eve',\n",
              " 'Denny',\n",
              " 'Vegetarian',\n",
              " 'Taco',\n",
              " 'Heimer',\n",
              " 'Ha',\n",
              " 'Long',\n",
              " 'Bay',\n",
              " 'Subway',\n",
              " 'When',\n",
              " 'Brushfire',\n",
              " 'Mirage',\n",
              " 'In',\n",
              " 'Ninja',\n",
              " 'Sushi']"
            ]
          },
          "metadata": {},
          "execution_count": 24
        }
      ]
    },
    {
      "cell_type": "code",
      "source": [
        "print(f'Se encontraron {len(res10)} palabras que inician con una letra mayúscula y terminan con una minúscula, pero que además no sea la primera palabra del comentario/string')"
      ],
      "metadata": {
        "id": "dLPTRPnTMqqx",
        "colab": {
          "base_uri": "https://localhost:8080/"
        },
        "outputId": "9e0c9a3c-a30e-4270-e249-76489bc0d5d7"
      },
      "execution_count": 25,
      "outputs": [
        {
          "output_type": "stream",
          "name": "stdout",
          "text": [
            "Se encontraron 273 palabras que inician con una letra mayúscula y terminan con una minúscula, pero que además no sea la primera palabra del comentario/string\n"
          ]
        }
      ]
    },
    {
      "cell_type": "markdown",
      "source": [
        "*   **Pregunta 11.**  \n",
        "\n",
        "Busca e imprime la secuencia de dos o más palabras que están separadas por un guion, \"-\", sin que tengan espacios en blanco entre ellas.\n",
        "\n",
        "Por ejemplo \"Go-Kart\" sería válido, pero \"Go  -Kart\" o \"Go  -  Kart\" no lo serían.\n",
        "\n",
        "Indica la cantidad de resultados obtenidos."
      ],
      "metadata": {
        "id": "u7nfm4KhMrNW"
      }
    },
    {
      "cell_type": "code",
      "source": [
        "\n",
        "res11=list()\n",
        "i=0\n",
        "pat =  r'\\b\\w+(?:-\\w+)+\\b'\n",
        "for i in range(len(docs)):\n",
        "  x = re.findall(pat,docs[i])\n",
        "  if len(x)> 0:\n",
        "    if len(x) > 1:\n",
        "      for j in range(len(x)):\n",
        "       res11.append(x[j])\n",
        "    else:\n",
        "      res11.append(x[0])\n",
        "res11\n"
      ],
      "metadata": {
        "id": "OwU-a7eGMsub",
        "colab": {
          "base_uri": "https://localhost:8080/"
        },
        "outputId": "ef7079d7-2901-4c55-d007-02569579bfe7"
      },
      "execution_count": 26,
      "outputs": [
        {
          "output_type": "execute_result",
          "data": {
            "text/plain": [
              "['flat-lined',\n",
              " 'hands-down',\n",
              " 'must-stop',\n",
              " 'sub-par',\n",
              " 'Service-check',\n",
              " 'in-house',\n",
              " 'been-stepped-in-and-tracked-everywhere',\n",
              " 'multi-grain',\n",
              " 'to-go',\n",
              " 'non-customer',\n",
              " 'High-quality',\n",
              " 'sit-down',\n",
              " 'over-whelm',\n",
              " 'low-key',\n",
              " 'non-fancy',\n",
              " 'golden-crispy',\n",
              " 'over-priced',\n",
              " 'over-hip',\n",
              " 'under-services']"
            ]
          },
          "metadata": {},
          "execution_count": 26
        }
      ]
    },
    {
      "cell_type": "code",
      "source": [
        "print(f'Se encontraron {len(res11)} con secuencia de dos o más palabras que están separadas por un guion, \"-\", sin que tengan espacios en blanco entre ellas')"
      ],
      "metadata": {
        "id": "SgzIL74ZMtGw",
        "colab": {
          "base_uri": "https://localhost:8080/"
        },
        "outputId": "400269d3-5fca-440a-90e4-7d2efdf5989f"
      },
      "execution_count": 27,
      "outputs": [
        {
          "output_type": "stream",
          "name": "stdout",
          "text": [
            "Se encontraron 19 con secuencia de dos o más palabras que están separadas por un guion, \"-\", sin que tengan espacios en blanco entre ellas\n"
          ]
        }
      ]
    },
    {
      "cell_type": "markdown",
      "source": [
        "*   **Pregunta 12.**  \n",
        "\n",
        "Busca e imprime todas las palabras que terminan en \"ing\" o \"ed\".\n",
        "\n",
        "Indica la cantidad de palabras que encontraste de cada una."
      ],
      "metadata": {
        "id": "DEIgl79HMthr"
      }
    },
    {
      "cell_type": "code",
      "source": [
        "\n",
        "res12=list()\n",
        "i=0\n",
        "pat =  r'\\b\\w+(?:ing|ed)\\b'\n",
        "for i in range(len(docs)):\n",
        "  x = re.findall(pat,docs[i])\n",
        "  if len(x)> 0:\n",
        "    if len(x) > 1:\n",
        "      for j in range(len(x)):\n",
        "       res12.append(x[j])\n",
        "    else:\n",
        "      res12.append(x[0])\n",
        "res12"
      ],
      "metadata": {
        "id": "I4TSofBMMv9y",
        "colab": {
          "base_uri": "https://localhost:8080/"
        },
        "outputId": "ed4047c0-e46f-422c-fd2d-4ae3018c81d7"
      },
      "execution_count": 28,
      "outputs": [
        {
          "output_type": "execute_result",
          "data": {
            "text/plain": [
              "['Loved',\n",
              " 'Stopped',\n",
              " 'during',\n",
              " 'loved',\n",
              " 'getting',\n",
              " 'being',\n",
              " 'ended',\n",
              " 'being',\n",
              " 'overpriced',\n",
              " 'tried',\n",
              " 'disgusted',\n",
              " 'shocked',\n",
              " 'recommended',\n",
              " 'amazing',\n",
              " 'performed',\n",
              " 'red',\n",
              " 'asked',\n",
              " 'running',\n",
              " 'overwhelmed',\n",
              " 'redeeming',\n",
              " 'grossed',\n",
              " 'melted',\n",
              " 'getting',\n",
              " 'provided',\n",
              " 'thing',\n",
              " 'cooked',\n",
              " 'dressing',\n",
              " 'refreshing',\n",
              " 'ordered',\n",
              " 'running',\n",
              " 'realized',\n",
              " 'Loved',\n",
              " 'lined',\n",
              " 'cooked',\n",
              " 'ripped',\n",
              " 'ripped',\n",
              " 'petrified',\n",
              " 'amazing',\n",
              " 'included',\n",
              " 'expected',\n",
              " 'nothing',\n",
              " 'appalling',\n",
              " 'seasoned',\n",
              " 'cheated',\n",
              " 'wasting',\n",
              " 'eating',\n",
              " 'going',\n",
              " 'Coming',\n",
              " 'experiencing',\n",
              " 'underwhelming',\n",
              " 'walked',\n",
              " 'smelled',\n",
              " 'eating',\n",
              " 'raving',\n",
              " 'tailored',\n",
              " 'spring',\n",
              " 'unsatisfying',\n",
              " 'amazing',\n",
              " 'Everything',\n",
              " 'disappointing',\n",
              " 'dining',\n",
              " 'flirting',\n",
              " 'arrived',\n",
              " 'roasted',\n",
              " 'added',\n",
              " 'thing',\n",
              " 'coming',\n",
              " 'cooked',\n",
              " 'playing',\n",
              " 'passed',\n",
              " 'ordering',\n",
              " 'arriving',\n",
              " 'liked',\n",
              " 'disappointing',\n",
              " 'managed',\n",
              " 'served',\n",
              " 'preparing',\n",
              " 'loving',\n",
              " 'liking',\n",
              " 'reviewing',\n",
              " 'venturing',\n",
              " 'overpriced',\n",
              " 'including',\n",
              " 'during',\n",
              " 'checked',\n",
              " 'disappointed',\n",
              " 'red',\n",
              " 'decorated',\n",
              " 'changing',\n",
              " 'going',\n",
              " 'considering',\n",
              " 'served',\n",
              " 'coming',\n",
              " 'watched',\n",
              " 'greeted',\n",
              " 'seated',\n",
              " 'waited',\n",
              " 'flavored',\n",
              " 'ordered',\n",
              " 'going',\n",
              " 'everything',\n",
              " 'ordered',\n",
              " 'relocated',\n",
              " 'impressed',\n",
              " 'seated',\n",
              " 'priced',\n",
              " 'looking',\n",
              " 'treated',\n",
              " 'ordered',\n",
              " 'dressing',\n",
              " 'dining',\n",
              " 'used',\n",
              " 'handed',\n",
              " 'listed',\n",
              " 'missed',\n",
              " 'Everything',\n",
              " 'thrilled',\n",
              " 'amazing',\n",
              " 'judging',\n",
              " 'inspired',\n",
              " 'desired',\n",
              " 'maintaining',\n",
              " 'asking',\n",
              " 'overcooked',\n",
              " 'decided',\n",
              " 'looked',\n",
              " 'having',\n",
              " 'dressed',\n",
              " 'treated',\n",
              " 'something',\n",
              " 'lacking',\n",
              " 'ordered',\n",
              " 'sucked',\n",
              " 'expected',\n",
              " 'sucked',\n",
              " 'imagined',\n",
              " 'Interesting',\n",
              " 'served',\n",
              " 'preparing',\n",
              " 'arrived',\n",
              " 'missing',\n",
              " 'feeling',\n",
              " 'satisfied',\n",
              " 'voted',\n",
              " 'insulted',\n",
              " 'disrespected',\n",
              " 'exceeding',\n",
              " 'dreamed',\n",
              " 'inviting',\n",
              " 'lived',\n",
              " 'stepped',\n",
              " 'mixed',\n",
              " 'showed',\n",
              " 'climbing',\n",
              " 'waiting',\n",
              " 'realized',\n",
              " 'coming',\n",
              " 'loved',\n",
              " 'being',\n",
              " 'lacking',\n",
              " 'needed',\n",
              " 'going',\n",
              " 'loved',\n",
              " 'wrapped',\n",
              " 'uninspired',\n",
              " 'amazing',\n",
              " 'dealing',\n",
              " 'annoying',\n",
              " 'Ordered',\n",
              " 'falling',\n",
              " 'uploaded',\n",
              " 'sporting',\n",
              " 'covered',\n",
              " 'supposed',\n",
              " 'amazing',\n",
              " 'rolled',\n",
              " 'stayed',\n",
              " 'providing',\n",
              " 'building',\n",
              " 'lighting',\n",
              " 'Based',\n",
              " 'received',\n",
              " 'going',\n",
              " 'nothing',\n",
              " 'privileged',\n",
              " 'working',\n",
              " 'eating',\n",
              " 'dressing',\n",
              " 'being',\n",
              " 'charged',\n",
              " 'visited',\n",
              " 'proclaimed',\n",
              " 'disappointed',\n",
              " 'Stopped',\n",
              " 'dedicated',\n",
              " 'liked',\n",
              " 'outstanding',\n",
              " 'getting',\n",
              " 'disappointed',\n",
              " 'waited',\n",
              " 'waited',\n",
              " 'burned',\n",
              " 'waited',\n",
              " 'amazing',\n",
              " 'disappointed',\n",
              " 'Waited',\n",
              " 'disappointed',\n",
              " 'pulled',\n",
              " 'prepared',\n",
              " 'rating',\n",
              " 'eating',\n",
              " 'writing',\n",
              " 'everything',\n",
              " 'dining',\n",
              " 'fried',\n",
              " 'boring',\n",
              " 'passed',\n",
              " 'charming',\n",
              " 'ordered',\n",
              " 'toasted',\n",
              " 'untoasted',\n",
              " 'going',\n",
              " 'figured',\n",
              " 'making',\n",
              " 'pricing',\n",
              " 'considering',\n",
              " 'returned',\n",
              " 'amazing',\n",
              " 'eyed',\n",
              " 'disappointed',\n",
              " 'pleased',\n",
              " 'Everything',\n",
              " 'replenished',\n",
              " 'disappointed',\n",
              " 'nothing',\n",
              " 'nothing',\n",
              " 'driving',\n",
              " 'treated',\n",
              " 'during',\n",
              " 'evening',\n",
              " 'offered',\n",
              " 'Outstanding',\n",
              " 'tasted',\n",
              " 'buying',\n",
              " 'handling',\n",
              " 'wasting',\n",
              " 'craving',\n",
              " 'dropped',\n",
              " 'dining',\n",
              " 'decorated',\n",
              " 'interesting',\n",
              " 'amazing',\n",
              " 'being',\n",
              " 'served',\n",
              " 'outshining',\n",
              " 'starving',\n",
              " 'coming',\n",
              " 'walked',\n",
              " 'stuffed',\n",
              " 'considering',\n",
              " 'located',\n",
              " 'shopping',\n",
              " 'nothing',\n",
              " 'Cooked',\n",
              " 'disappointed',\n",
              " 'getting',\n",
              " 'screwed',\n",
              " 'frustrated',\n",
              " 'iced',\n",
              " 'stuffed',\n",
              " 'disappointed',\n",
              " 'trying',\n",
              " 'grossed',\n",
              " 'enjoyed',\n",
              " 'eating',\n",
              " 'going',\n",
              " 'looked',\n",
              " 'overwhelmed',\n",
              " 'stayed',\n",
              " 'everything',\n",
              " 'smeared',\n",
              " 'stepped',\n",
              " 'tracked',\n",
              " 'tried',\n",
              " 'rushed',\n",
              " 'loved',\n",
              " 'Ordered',\n",
              " 'Nothing',\n",
              " 'cooked',\n",
              " 'going',\n",
              " 'insulted',\n",
              " 'contained',\n",
              " 'enjoyed',\n",
              " 'relaxed',\n",
              " 'loved',\n",
              " 'outstanding',\n",
              " 'running',\n",
              " 'acknowledged',\n",
              " 'forgetting',\n",
              " 'upgrading',\n",
              " 'trimmed',\n",
              " 'cooked',\n",
              " 'claimed',\n",
              " 'handled',\n",
              " 'asked',\n",
              " 'eating',\n",
              " 'bring',\n",
              " 'hoping',\n",
              " 'living',\n",
              " 'limited',\n",
              " 'boiled',\n",
              " 'dining',\n",
              " 'liked',\n",
              " 'sliced',\n",
              " 'attached',\n",
              " 'humiliated',\n",
              " 'filling',\n",
              " 'fried',\n",
              " 'amazing',\n",
              " 'impressed',\n",
              " 'disappointed',\n",
              " 'priced',\n",
              " 'Everything',\n",
              " 'disappointed',\n",
              " 'thing',\n",
              " 'amazing',\n",
              " 'need',\n",
              " 'Everything',\n",
              " 'interesting',\n",
              " 'need',\n",
              " 'experienced',\n",
              " 'amazing',\n",
              " 'amazing',\n",
              " 'waited',\n",
              " 'seated',\n",
              " 'waiting',\n",
              " 'going',\n",
              " 'going',\n",
              " 'dining',\n",
              " 'decided',\n",
              " 'pleased',\n",
              " 'saving',\n",
              " 'something',\n",
              " 'trying',\n",
              " 'disgusting',\n",
              " 'hankering',\n",
              " 'recommended',\n",
              " 'being',\n",
              " 'helped',\n",
              " 'witnessed',\n",
              " 'Waited',\n",
              " 'waited',\n",
              " 'waited',\n",
              " 'checked',\n",
              " 'tasted',\n",
              " 'disappointed',\n",
              " 'being',\n",
              " 'served',\n",
              " 'rated',\n",
              " 'recommended',\n",
              " 'pulled',\n",
              " 'waited',\n",
              " 'being',\n",
              " 'acknowledged',\n",
              " 'setting',\n",
              " 'perpared',\n",
              " 'dusted',\n",
              " 'powdered',\n",
              " 'enjoyed',\n",
              " 'expanded',\n",
              " 'sitting',\n",
              " 'ended',\n",
              " 'waiting',\n",
              " 'arrived',\n",
              " 'satisfying',\n",
              " 'wanted',\n",
              " 'disappointed',\n",
              " 'eating',\n",
              " 'need',\n",
              " 'being',\n",
              " 'freaking',\n",
              " 'checked',\n",
              " 'impressed',\n",
              " 'reheated',\n",
              " 'getting',\n",
              " 'amazing',\n",
              " 'tasted',\n",
              " 'disappointing',\n",
              " 'grilled',\n",
              " 'seasoning',\n",
              " 'going',\n",
              " 'focused',\n",
              " 'roasted',\n",
              " 'asked',\n",
              " 'being',\n",
              " 'ignored',\n",
              " 'bring',\n",
              " 'letting',\n",
              " 'tasted',\n",
              " 'evening',\n",
              " 'Ordered',\n",
              " 'greeted',\n",
              " 'seated',\n",
              " 'Tried',\n",
              " 'waiting',\n",
              " 'being',\n",
              " 'seated',\n",
              " 'eating',\n",
              " 'going',\n",
              " 'Disappointed',\n",
              " 'ordered',\n",
              " 'constructed',\n",
              " 'seating',\n",
              " 'fried',\n",
              " 'playing',\n",
              " 'requested',\n",
              " 'amazing',\n",
              " 'staying',\n",
              " 'used',\n",
              " 'tasted',\n",
              " 'giving',\n",
              " 'talking',\n",
              " 'amazing',\n",
              " 'drenched',\n",
              " 'amazing',\n",
              " 'amazing',\n",
              " 'tried',\n",
              " 'walked',\n",
              " 'expected',\n",
              " 'amazing',\n",
              " 'disappointed',\n",
              " 'mortified',\n",
              " 'filling',\n",
              " 'dripping',\n",
              " 'impressed',\n",
              " 'going',\n",
              " 'serving',\n",
              " 'refrained',\n",
              " 'recommending',\n",
              " 'pleased',\n",
              " 'thing',\n",
              " 'reading',\n",
              " 'loved',\n",
              " 'grilled',\n",
              " 'reminded',\n",
              " 'seating',\n",
              " 'sucked',\n",
              " 'hooked',\n",
              " 'ordered',\n",
              " 'going',\n",
              " 'disappointed',\n",
              " 'everything',\n",
              " 'seasoned',\n",
              " 'thing',\n",
              " 'added',\n",
              " 'sitting',\n",
              " 'waiting',\n",
              " 'bring',\n",
              " 'revisiting',\n",
              " 'coming',\n",
              " 'touched',\n",
              " 'anything',\n",
              " 'fried',\n",
              " 'opened',\n",
              " 'impressed',\n",
              " 'feeling',\n",
              " 'during',\n",
              " 'watched',\n",
              " 'thing',\n",
              " 'being',\n",
              " 'Tasted',\n",
              " 'amazing',\n",
              " 'being',\n",
              " 'amazing',\n",
              " 'ordered',\n",
              " 'satifying',\n",
              " 'describing',\n",
              " 'coming',\n",
              " 'everything',\n",
              " 'received',\n",
              " 'Paying',\n",
              " 'going',\n",
              " 'impressed',\n",
              " 'overcooked',\n",
              " 'cooked',\n",
              " 'needed',\n",
              " 'served',\n",
              " 'thing',\n",
              " 'ordered',\n",
              " 'amazing',\n",
              " 'overpriced',\n",
              " 'packed',\n",
              " 'getting',\n",
              " 'opposed',\n",
              " 'cramming',\n",
              " 'priced',\n",
              " 'surprised',\n",
              " 'considering',\n",
              " 'focused',\n",
              " 'overpriced',\n",
              " 'fucking',\n",
              " 'tried',\n",
              " 'enjoyed',\n",
              " 'going',\n",
              " 'qualified',\n",
              " 'tasted',\n",
              " 'hated',\n",
              " 'appealing',\n",
              " 'getting',\n",
              " 'coming',\n",
              " 'watched',\n",
              " 'Everything',\n",
              " 'fried',\n",
              " 'dealing',\n",
              " 'everything',\n",
              " 'tried',\n",
              " 'something',\n",
              " 'during',\n",
              " 'helped',\n",
              " 'dining',\n",
              " 'cooking',\n",
              " 'dining',\n",
              " 'started',\n",
              " 'editing',\n",
              " 'highlighted',\n",
              " 'setting',\n",
              " 'used',\n",
              " 'amazing',\n",
              " 'enjoyed',\n",
              " 'ordered',\n",
              " 'tasted',\n",
              " 'asked',\n",
              " 'refused',\n",
              " 'tried',\n",
              " 'rotating',\n",
              " 'Pricing',\n",
              " 'toasted',\n",
              " 'satisfying',\n",
              " 'anticipated',\n",
              " 'disappointing',\n",
              " 'amazing',\n",
              " 'returning',\n",
              " 'unexperienced',\n",
              " 'running',\n",
              " 'insulted',\n",
              " 'disrespected',\n",
              " 'being',\n",
              " 'impressed',\n",
              " 'thing',\n",
              " 'puréed',\n",
              " 'nothing',\n",
              " 'poisoning',\n",
              " 'thinking',\n",
              " 'something',\n",
              " 'going',\n",
              " 'disgusting',\n",
              " 'caring',\n",
              " 'bring',\n",
              " 'asked',\n",
              " 'Disappointing',\n",
              " 'rated',\n",
              " 'saying',\n",
              " 'going',\n",
              " 'lacked',\n",
              " 'coming',\n",
              " 'sliced',\n",
              " 'pulled',\n",
              " 'building',\n",
              " 'seating',\n",
              " 'undercooked',\n",
              " 'dipping',\n",
              " 'seemed',\n",
              " 'watered',\n",
              " 'lacked',\n",
              " 'disappointed',\n",
              " 'overpriced',\n",
              " 'setting',\n",
              " 'ensued',\n",
              " 'anything',\n",
              " 'drinking',\n",
              " 'serving',\n",
              " 'disappointed',\n",
              " 'placed',\n",
              " 'avoided',\n",
              " 'received',\n",
              " 'wanted',\n",
              " 'doing',\n",
              " 'sucked',\n",
              " 'happened',\n",
              " 'putting',\n",
              " 'owned',\n",
              " 'wanted',\n",
              " 'Overpriced',\n",
              " 'getting',\n",
              " 'vomited',\n",
              " 'looking',\n",
              " 'started',\n",
              " 'coming',\n",
              " 'unwrapped',\n",
              " 'lacked',\n",
              " 'seemed',\n",
              " 'undercooked',\n",
              " 'closed',\n",
              " 'staying',\n",
              " 'refried',\n",
              " 'dried',\n",
              " 'disappointed',\n",
              " 'lacking',\n",
              " 'impressed',\n",
              " 'underwhelming',\n",
              " 'wasted',\n",
              " 'poured',\n",
              " 'drawing',\n",
              " 'bring']"
            ]
          },
          "metadata": {},
          "execution_count": 28
        }
      ]
    },
    {
      "cell_type": "code",
      "source": [
        "print(f'Se encontraron {len(res12)} palabras que terminan en \"ing\" o \"ed\"')"
      ],
      "metadata": {
        "id": "AhGq6De2Mvyh",
        "colab": {
          "base_uri": "https://localhost:8080/"
        },
        "outputId": "ccce46a7-63a4-4308-9230-e1cace9cf6c3"
      },
      "execution_count": 29,
      "outputs": [
        {
          "output_type": "stream",
          "name": "stdout",
          "text": [
            "Se encontraron 614 palabras que terminan en \"ing\" o \"ed\"\n"
          ]
        }
      ]
    },
    {
      "cell_type": "markdown",
      "source": [
        "#**Parte 3. Proceso de limpieza.**"
      ],
      "metadata": {
        "id": "70StdqAZa9E9"
      }
    },
    {
      "cell_type": "markdown",
      "source": [
        "*   **Pregunta 13.**  \n",
        "\n",
        "Ahora realiza un proceso de limpieza del corpus que incluya los siguientes procesos:\n",
        "\n",
        "*   Solo se deben considerar caracteres alfabéticos. Es decir, se eliminan todos los signos de puntuación y caracteres especiales.\n",
        "*   Todos los caracteres alfabéticos se transforman a minúsculas.\n",
        "*   Se deben eliminar todos los espacios en blanco adicionales que se puedan encontrar en cada comentario.\n",
        "\n",
        "Al finalizar dicho proceso de limpieza, imprime el resultado de los primeros 10 comentarios resultantes.\n",
        "   \n",
        "\n",
        "\n"
      ],
      "metadata": {
        "id": "xaDUFXHrMvX2"
      }
    },
    {
      "cell_type": "code",
      "source": [
        "stp1 = list()\n",
        "cleaned = list()\n",
        "i=0\n",
        "pat = r'[^a-zA-Z\\s]'\n",
        "pat2 = r'\\s+'\n",
        "for i in range(len(docs)):\n",
        "  stp1.append(re.sub(pat, '', docs[i]).lower())\n",
        "  cleaned.append(re.sub(pat2, ' ', stp1[i]).strip().lower())\n",
        "\n",
        "cleaned[0:10]"
      ],
      "metadata": {
        "id": "K3kQzPOPMx0w",
        "colab": {
          "base_uri": "https://localhost:8080/"
        },
        "outputId": "60fbd2f1-d648-40eb-a4ce-d109a03f46ef"
      },
      "execution_count": 30,
      "outputs": [
        {
          "output_type": "execute_result",
          "data": {
            "text/plain": [
              "['wow loved this place',\n",
              " 'crust is not good',\n",
              " 'not tasty and the texture was just nasty',\n",
              " 'stopped by during the late may bank holiday off rick steve recommendation and loved it',\n",
              " 'the selection on the menu was great and so were the prices',\n",
              " 'now i am getting angry and i want my damn pho',\n",
              " 'honeslty it didnt taste that fresh',\n",
              " 'the potatoes were like rubber and you could tell they had been made up ahead of time being kept under a warmer',\n",
              " 'the fries were great too',\n",
              " 'a great touch']"
            ]
          },
          "metadata": {},
          "execution_count": 30
        }
      ]
    },
    {
      "cell_type": "markdown",
      "source": [
        "*   **Pregunta 14.**  \n",
        "\n",
        "Con el resultado de la limpieza obtenido en la pregunta anterior, realiza ahora un proceso de tokenización por palabras del corpus.\n",
        "\n",
        "Es decir, al final de este proceso de tokenización, debes tener como resultado una lista de listas, donde cada comentario estará tokenizado por palabras.\n",
        "\n",
        "Al terminar calcula el total de tokens obtenido en todo el corpus."
      ],
      "metadata": {
        "id": "WZwEhg2lUSAX"
      }
    },
    {
      "cell_type": "code",
      "source": [
        "tokens = list()\n",
        "pat = r' '\n",
        "\n",
        "for i in range(len(cleaned)):\n",
        "  x = re.split(pat, cleaned[i])\n",
        "  if len(x)> 0:\n",
        "    if len(x) > 1:\n",
        "      for j in range(len(x)):\n",
        "       tokens.append(x[j])\n",
        "    else:\n",
        "      tokens.append(x[0])\n",
        "\n",
        "tokens[0:50]\n"
      ],
      "metadata": {
        "id": "kbAL9-v0V-jx",
        "colab": {
          "base_uri": "https://localhost:8080/"
        },
        "outputId": "37ccc967-9823-4af5-b00e-13f61213f0cc"
      },
      "execution_count": 31,
      "outputs": [
        {
          "output_type": "execute_result",
          "data": {
            "text/plain": [
              "['wow',\n",
              " 'loved',\n",
              " 'this',\n",
              " 'place',\n",
              " 'crust',\n",
              " 'is',\n",
              " 'not',\n",
              " 'good',\n",
              " 'not',\n",
              " 'tasty',\n",
              " 'and',\n",
              " 'the',\n",
              " 'texture',\n",
              " 'was',\n",
              " 'just',\n",
              " 'nasty',\n",
              " 'stopped',\n",
              " 'by',\n",
              " 'during',\n",
              " 'the',\n",
              " 'late',\n",
              " 'may',\n",
              " 'bank',\n",
              " 'holiday',\n",
              " 'off',\n",
              " 'rick',\n",
              " 'steve',\n",
              " 'recommendation',\n",
              " 'and',\n",
              " 'loved',\n",
              " 'it',\n",
              " 'the',\n",
              " 'selection',\n",
              " 'on',\n",
              " 'the',\n",
              " 'menu',\n",
              " 'was',\n",
              " 'great',\n",
              " 'and',\n",
              " 'so',\n",
              " 'were',\n",
              " 'the',\n",
              " 'prices',\n",
              " 'now',\n",
              " 'i',\n",
              " 'am',\n",
              " 'getting',\n",
              " 'angry',\n",
              " 'and',\n",
              " 'i']"
            ]
          },
          "metadata": {},
          "execution_count": 31
        }
      ]
    },
    {
      "cell_type": "code",
      "source": [
        "print(f'El total de tokens generados es de {len(tokens)} usando los espacios como separador')"
      ],
      "metadata": {
        "id": "DZs_etmiV-fd",
        "colab": {
          "base_uri": "https://localhost:8080/"
        },
        "outputId": "4d8b637c-fb1b-4071-cc3e-1dbff7348f5e"
      },
      "execution_count": 32,
      "outputs": [
        {
          "output_type": "stream",
          "name": "stdout",
          "text": [
            "El total de tokens generados es de 10777 usando los espacios como separador\n"
          ]
        }
      ]
    },
    {
      "cell_type": "markdown",
      "source": [
        "*   **Pregunta 15.**  \n",
        "\n",
        "Finalmente, en este ejercicio definiremos nuestro conjunto de palabras \"stopwords\", las cuales deberás eliminar de todo el corpus.\n",
        "\n",
        "Recuerda que ejemplos de stopwords son artículos, adverbios, conectivos, etcétera, que tienen frecuencias de aparición muy altas en cualquier documento, pero que no brindan mucho significado en cuanto al significado de un enunciado.\n",
        "\n",
        "Con base a la lista de stopwords que se te proporciona, realiza un proceso de limpieza eliminando todas estas palabras del corpus obtenido en el ejercicio anterior.\n",
        "\n",
        "Obtener cuántos tokens/palabras quedan finalmente en todo el corpus.\n",
        "\n",
        "Obtener cuántos de estos tokens/palabras son diferentes, es decir, cuántos tokens únicos tendrá lo que llamaremos más adelante nuestro vocabulario."
      ],
      "metadata": {
        "id": "EFeu0OJ7WDPD"
      }
    },
    {
      "cell_type": "code",
      "source": [
        "# Considera la siguiente lista como tu conjunto de stopwords:\n",
        "mis_stopwords = ['i', 'me', 'my', 'myself', 'we', 'our', 'ours', 'ourselves', 'you', 'your', 'yours', 'he', 'him', 'his', 'himself', 'she', 'her', 'hers', 'herself', 'it', 'its', 'itself', 'they', 'them', 'their', 'theirs', 'themselves', 'what', 'which', 'who', 'whom', 'this', 'that', 'these', 'those', 'am', 'is', 'are', 'was', 'were', 'be', 'been', 'being', 'have', 'has', 'had', 'having', 'do', 'does', 'did', 'doing', 'a', 'an', 'the', 'and', 'but', 'if', 'or', 'because', 'as', 'until', 'while', 'of', 'at', 'by', 'for', 'with', 'about', 'against', 'between', 'into', 'through', 'during', 'before', 'after', 'above', 'below', 'to', 'from', 'up', 'down', 'in', 'out', 'on', 'over', 'under', 'again', 'further', 'then', 'once', 'here', 'there', 'when', 'where', 'why', 'how', 'all', 'any', 'both', 'each', 'few', 'more', 'most', 'other', 'some', 'such', 'only', 'own', 'same', 'so', 'than', 'too', 'very', 's', 't', 'can', 'will', 'just', 'should', 'now', 'll']"
      ],
      "metadata": {
        "id": "6FP4FF3KXGxm"
      },
      "execution_count": 33,
      "outputs": []
    },
    {
      "cell_type": "code",
      "source": [
        "i=0\n",
        "tokens_cleaned = [i for i in tokens if i not in mis_stopwords]\n",
        "tokens_cleaned[0:50]"
      ],
      "metadata": {
        "id": "CD8yjyq1ZrwY",
        "colab": {
          "base_uri": "https://localhost:8080/"
        },
        "outputId": "30c5917d-37b0-4d88-e936-cf0588fa1de7"
      },
      "execution_count": 34,
      "outputs": [
        {
          "output_type": "execute_result",
          "data": {
            "text/plain": [
              "['wow',\n",
              " 'loved',\n",
              " 'place',\n",
              " 'crust',\n",
              " 'not',\n",
              " 'good',\n",
              " 'not',\n",
              " 'tasty',\n",
              " 'texture',\n",
              " 'nasty',\n",
              " 'stopped',\n",
              " 'late',\n",
              " 'may',\n",
              " 'bank',\n",
              " 'holiday',\n",
              " 'off',\n",
              " 'rick',\n",
              " 'steve',\n",
              " 'recommendation',\n",
              " 'loved',\n",
              " 'selection',\n",
              " 'menu',\n",
              " 'great',\n",
              " 'prices',\n",
              " 'getting',\n",
              " 'angry',\n",
              " 'want',\n",
              " 'damn',\n",
              " 'pho',\n",
              " 'honeslty',\n",
              " 'didnt',\n",
              " 'taste',\n",
              " 'fresh',\n",
              " 'potatoes',\n",
              " 'like',\n",
              " 'rubber',\n",
              " 'could',\n",
              " 'tell',\n",
              " 'made',\n",
              " 'ahead',\n",
              " 'time',\n",
              " 'kept',\n",
              " 'warmer',\n",
              " 'fries',\n",
              " 'great',\n",
              " 'great',\n",
              " 'touch',\n",
              " 'service',\n",
              " 'prompt',\n",
              " 'would']"
            ]
          },
          "metadata": {},
          "execution_count": 34
        }
      ]
    },
    {
      "cell_type": "code",
      "source": [
        "print(f'El total de tokens despues de la limpieza de stop words es de {len(tokens_cleaned)} tokens')"
      ],
      "metadata": {
        "id": "4ZPi5prKZro5",
        "colab": {
          "base_uri": "https://localhost:8080/"
        },
        "outputId": "c44e3d28-4308-4741-b3a6-054472229b2f"
      },
      "execution_count": 35,
      "outputs": [
        {
          "output_type": "stream",
          "name": "stdout",
          "text": [
            "El total de tokens despues de la limpieza de stop words es de 5776 tokens\n"
          ]
        }
      ]
    },
    {
      "cell_type": "code",
      "source": [
        "unique_tokens = set(tokens_cleaned)\n",
        "print(f'El total de tokens únicos es de {len(unique_tokens)} tokens')"
      ],
      "metadata": {
        "colab": {
          "base_uri": "https://localhost:8080/"
        },
        "id": "i2z5slX2mEzO",
        "outputId": "88eb6ea7-6140-4d2e-c9eb-9c33407010ec"
      },
      "execution_count": 36,
      "outputs": [
        {
          "output_type": "stream",
          "name": "stdout",
          "text": [
            "El total de tokens únicos es de 1941 tokens\n"
          ]
        }
      ]
    },
    {
      "cell_type": "markdown",
      "source": [
        "*   **Comentarios**\n",
        "\n",
        "Incluye finalmente tus comentarios de la actividad."
      ],
      "metadata": {
        "id": "NDbKkuxRbLoX"
      }
    },
    {
      "cell_type": "markdown",
      "source": [
        "El uso de expresiones regulares, aunque complejo, es una gran herramienta para el tratamiento de textos basado en patrones, de esta forma se pueden realizar trabajos de limpieza, análisis de contenidos, patrones prominentes entre otros, ayudando a generar un diccionario de tokens más limpio el cual reduce la complejidad del corpus y ayuda a tener un mejor desempeño al momento de usar herramientas de análisis de texto, como algoritmos de machine learning, entre otras."
      ],
      "metadata": {
        "id": "o7fzbvqVbUGr"
      }
    },
    {
      "cell_type": "markdown",
      "source": [
        "##**Fin de la Actividad de la semana 2.**"
      ],
      "metadata": {
        "id": "PHaKw_6Ldbaf"
      }
    }
  ]
}