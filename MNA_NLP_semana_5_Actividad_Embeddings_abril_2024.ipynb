{
  "cells": [
    {
      "cell_type": "markdown",
      "metadata": {
        "id": "lNl8G3vHkPSX"
      },
      "source": [
        "# **Maestría en Inteligencia Artificial Aplicada**\n",
        "\n",
        "## Curso: **Procesamiento de Lenguaje Natural**\n",
        "\n",
        "### Tecnológico de Monterrey\n",
        "\n",
        "### Prof Luis Eduardo Falcón Morales\n",
        "\n",
        "## Adtividad Semana 5\n",
        "\n",
        "### **Vectores Embebidos Pre-entrenados: Fasttext**"
      ]
    },
    {
      "cell_type": "markdown",
      "metadata": {
        "id": "U69mHA6i201G"
      },
      "source": [
        "#### **Nombres y matrículas de los integrantes del equipo:**\n",
        "\n",
        "\n",
        "\n",
        "*   Elemento de lista\n",
        "*   Elemento de lista\n",
        "\n"
      ]
    },
    {
      "cell_type": "code",
      "execution_count": 3,
      "metadata": {},
      "outputs": [
        {
          "name": "stdout",
          "output_type": "stream",
          "text": [
            "Collecting matplotlib\n",
            "  Obtaining dependency information for matplotlib from https://files.pythonhosted.org/packages/7d/ca/e7bd1876a341ed8c456095962a582696cac1691cb6e55bd5ead15a755c5d/matplotlib-3.8.4-cp312-cp312-win_amd64.whl.metadata\n",
            "  Downloading matplotlib-3.8.4-cp312-cp312-win_amd64.whl.metadata (5.9 kB)\n",
            "Collecting contourpy>=1.0.1 (from matplotlib)\n",
            "  Obtaining dependency information for contourpy>=1.0.1 from https://files.pythonhosted.org/packages/78/38/a046bb0ebce6f530175d434e7364149e338ffe1069ee286ed8ba7f6481ee/contourpy-1.2.1-cp312-cp312-win_amd64.whl.metadata\n",
            "  Downloading contourpy-1.2.1-cp312-cp312-win_amd64.whl.metadata (5.8 kB)\n",
            "Collecting cycler>=0.10 (from matplotlib)\n",
            "  Obtaining dependency information for cycler>=0.10 from https://files.pythonhosted.org/packages/e7/05/c19819d5e3d95294a6f5947fb9b9629efb316b96de511b418c53d245aae6/cycler-0.12.1-py3-none-any.whl.metadata\n",
            "  Downloading cycler-0.12.1-py3-none-any.whl.metadata (3.8 kB)\n",
            "Collecting fonttools>=4.22.0 (from matplotlib)\n",
            "  Obtaining dependency information for fonttools>=4.22.0 from https://files.pythonhosted.org/packages/56/85/0a77382e3dd8528d7f13ee97415c82b36c4879023f226e2b98d012fce077/fonttools-4.51.0-cp312-cp312-win_amd64.whl.metadata\n",
            "  Downloading fonttools-4.51.0-cp312-cp312-win_amd64.whl.metadata (162 kB)\n",
            "     ---------------------------------------- 0.0/162.8 kB ? eta -:--:--\n",
            "     ---- -------------------------------- 20.5/162.8 kB 330.3 kB/s eta 0:00:01\n",
            "     --------- --------------------------- 41.0/162.8 kB 393.8 kB/s eta 0:00:01\n",
            "     --------------------------- -------- 122.9/162.8 kB 901.1 kB/s eta 0:00:01\n",
            "     -------------------------------------- 162.8/162.8 kB 1.1 MB/s eta 0:00:00\n",
            "Collecting kiwisolver>=1.3.1 (from matplotlib)\n",
            "  Obtaining dependency information for kiwisolver>=1.3.1 from https://files.pythonhosted.org/packages/63/50/2746566bdf4a6a842d117367d05c90cfb87ac04e9e2845aa1fa21f071362/kiwisolver-1.4.5-cp312-cp312-win_amd64.whl.metadata\n",
            "  Downloading kiwisolver-1.4.5-cp312-cp312-win_amd64.whl.metadata (6.5 kB)\n",
            "Requirement already satisfied: numpy>=1.21 in c:\\python312\\lib\\site-packages (from matplotlib) (1.26.4)\n",
            "Requirement already satisfied: packaging>=20.0 in c:\\users\\silvalej\\appdata\\roaming\\python\\python312\\site-packages (from matplotlib) (23.2)\n",
            "Collecting pillow>=8 (from matplotlib)\n",
            "  Obtaining dependency information for pillow>=8 from https://files.pythonhosted.org/packages/d3/23/3927d888481ff7c44fdbca3bc2a2e97588c933db46723bf115201377c436/pillow-10.3.0-cp312-cp312-win_amd64.whl.metadata\n",
            "  Downloading pillow-10.3.0-cp312-cp312-win_amd64.whl.metadata (9.4 kB)\n",
            "Collecting pyparsing>=2.3.1 (from matplotlib)\n",
            "  Obtaining dependency information for pyparsing>=2.3.1 from https://files.pythonhosted.org/packages/9d/ea/6d76df31432a0e6fdf81681a895f009a4bb47b3c39036db3e1b528191d52/pyparsing-3.1.2-py3-none-any.whl.metadata\n",
            "  Downloading pyparsing-3.1.2-py3-none-any.whl.metadata (5.1 kB)\n",
            "Requirement already satisfied: python-dateutil>=2.7 in c:\\users\\silvalej\\appdata\\roaming\\python\\python312\\site-packages (from matplotlib) (2.8.2)\n",
            "Requirement already satisfied: six>=1.5 in c:\\users\\silvalej\\appdata\\roaming\\python\\python312\\site-packages (from python-dateutil>=2.7->matplotlib) (1.16.0)\n",
            "Downloading matplotlib-3.8.4-cp312-cp312-win_amd64.whl (7.7 MB)\n",
            "   ---------------------------------------- 0.0/7.7 MB ? eta -:--:--\n",
            "    --------------------------------------- 0.2/7.7 MB 10.9 MB/s eta 0:00:01\n",
            "   --- ------------------------------------ 0.6/7.7 MB 7.6 MB/s eta 0:00:01\n",
            "   ---- ----------------------------------- 0.9/7.7 MB 7.5 MB/s eta 0:00:01\n",
            "   ------ --------------------------------- 1.3/7.7 MB 7.6 MB/s eta 0:00:01\n",
            "   --------- ------------------------------ 1.9/7.7 MB 8.5 MB/s eta 0:00:01\n",
            "   ------------ --------------------------- 2.4/7.7 MB 9.1 MB/s eta 0:00:01\n",
            "   --------------- ------------------------ 3.0/7.7 MB 9.5 MB/s eta 0:00:01\n",
            "   ---------------- ----------------------- 3.1/7.7 MB 9.5 MB/s eta 0:00:01\n",
            "   ---------------- ----------------------- 3.1/7.7 MB 9.5 MB/s eta 0:00:01\n",
            "   ---------------- ----------------------- 3.1/7.7 MB 9.5 MB/s eta 0:00:01\n",
            "   ---------------- ----------------------- 3.2/7.7 MB 6.7 MB/s eta 0:00:01\n",
            "   ----------------- ---------------------- 3.4/7.7 MB 6.2 MB/s eta 0:00:01\n",
            "   --------------------- ------------------ 4.1/7.7 MB 6.9 MB/s eta 0:00:01\n",
            "   ----------------------- ---------------- 4.4/7.7 MB 6.9 MB/s eta 0:00:01\n",
            "   ------------------------- -------------- 4.8/7.7 MB 7.0 MB/s eta 0:00:01\n",
            "   --------------------------- ------------ 5.2/7.7 MB 7.1 MB/s eta 0:00:01\n",
            "   ---------------------------- ----------- 5.4/7.7 MB 6.9 MB/s eta 0:00:01\n",
            "   ------------------------------ --------- 5.8/7.7 MB 7.0 MB/s eta 0:00:01\n",
            "   -------------------------------- ------- 6.3/7.7 MB 7.3 MB/s eta 0:00:01\n",
            "   ----------------------------------- ---- 6.9/7.7 MB 7.6 MB/s eta 0:00:01\n",
            "   ------------------------------------ --- 6.9/7.7 MB 7.5 MB/s eta 0:00:01\n",
            "   ------------------------------------- -- 7.3/7.7 MB 7.3 MB/s eta 0:00:01\n",
            "   ---------------------------------------  7.6/7.7 MB 7.3 MB/s eta 0:00:01\n",
            "   ---------------------------------------- 7.7/7.7 MB 7.3 MB/s eta 0:00:00\n",
            "Downloading contourpy-1.2.1-cp312-cp312-win_amd64.whl (189 kB)\n",
            "   ---------------------------------------- 0.0/189.9 kB ? eta -:--:--\n",
            "   --------------------------------------- 189.9/189.9 kB 11.2 MB/s eta 0:00:00\n",
            "Downloading cycler-0.12.1-py3-none-any.whl (8.3 kB)\n",
            "Downloading fonttools-4.51.0-cp312-cp312-win_amd64.whl (2.2 MB)\n",
            "   ---------------------------------------- 0.0/2.2 MB ? eta -:--:--\n",
            "   --------- ------------------------------ 0.5/2.2 MB 10.5 MB/s eta 0:00:01\n",
            "   ------------------- -------------------- 1.0/2.2 MB 11.0 MB/s eta 0:00:01\n",
            "   ----------------------------- ---------- 1.6/2.2 MB 11.3 MB/s eta 0:00:01\n",
            "   -------------------------------- ------- 1.8/2.2 MB 11.2 MB/s eta 0:00:01\n",
            "   -------------------------------------- - 2.1/2.2 MB 8.8 MB/s eta 0:00:01\n",
            "   ---------------------------------------- 2.2/2.2 MB 9.3 MB/s eta 0:00:00\n",
            "Downloading kiwisolver-1.4.5-cp312-cp312-win_amd64.whl (56 kB)\n",
            "   ---------------------------------------- 0.0/56.0 kB ? eta -:--:--\n",
            "   ---------------------------------------- 56.0/56.0 kB ? eta 0:00:00\n",
            "Downloading pillow-10.3.0-cp312-cp312-win_amd64.whl (2.5 MB)\n",
            "   ---------------------------------------- 0.0/2.5 MB ? eta -:--:--\n",
            "   -------- ------------------------------- 0.5/2.5 MB 16.5 MB/s eta 0:00:01\n",
            "   ---------------- ----------------------- 1.0/2.5 MB 13.3 MB/s eta 0:00:01\n",
            "   ---------------------- ----------------- 1.5/2.5 MB 11.6 MB/s eta 0:00:01\n",
            "   -------------------------------- ------- 2.1/2.5 MB 11.9 MB/s eta 0:00:01\n",
            "   ---------------------------------------- 2.5/2.5 MB 11.5 MB/s eta 0:00:00\n",
            "Downloading pyparsing-3.1.2-py3-none-any.whl (103 kB)\n",
            "   ---------------------------------------- 0.0/103.2 kB ? eta -:--:--\n",
            "   ---------------------------------------- 103.2/103.2 kB ? eta 0:00:00\n",
            "Installing collected packages: pyparsing, pillow, kiwisolver, fonttools, cycler, contourpy, matplotlib\n"
          ]
        },
        {
          "name": "stderr",
          "output_type": "stream",
          "text": [
            "ERROR: Could not install packages due to an OSError: [WinError 5] Access is denied: 'C:\\\\Python312\\\\share'\n",
            "Consider using the `--user` option or check the permissions.\n",
            "\n",
            "\n",
            "[notice] A new release of pip is available: 23.2.1 -> 24.0\n",
            "[notice] To update, run: python.exe -m pip install --upgrade pip\n"
          ]
        }
      ],
      "source": [
        "!pip install matplotlib"
      ]
    },
    {
      "cell_type": "code",
      "execution_count": 2,
      "metadata": {
        "id": "wCL2p6MA8NuT"
      },
      "outputs": [],
      "source": [
        "# Aquí deberás incluir todas las librerías que requieras durante esta actividad:\n",
        "import pandas as pd\n",
        "import numpy as np\n",
        "import  matplotlib.pyplot as plt\n",
        "import re\n",
        "import nltk\n",
        "from nltk.tokenize import word_tokenize\n",
        "from nltk import WordNetLemmatizer as lemm\n",
        "from nltk.corpus import stopwords\n",
        "import string\n",
        "from sklearn.model_selection import train_test_split"
      ]
    },
    {
      "cell_type": "markdown",
      "metadata": {
        "id": "4c34ZOnna3Gu"
      },
      "source": [
        "##**Pregunta - 1:**\n",
        "\n"
      ]
    },
    {
      "cell_type": "markdown",
      "metadata": {
        "id": "yeNllxRdmeWg"
      },
      "source": [
        "Descarga los 3 archivos de Canvas y genera un nuevo DataFrame de Pandas con ellos.\n",
        "\n",
        "**Llama simplemente \"df\" a dicho DataFrame.**\n",
        "\n",
        "Los archivos los encuentras en Canvas: amazon5.txt, imdb5.txt, yelp5.txt.\n",
        "\n"
      ]
    },
    {
      "cell_type": "code",
      "execution_count": 4,
      "metadata": {
        "id": "T_lyEFRkxzC6"
      },
      "outputs": [],
      "source": [
        "\n",
        "# ******* Inlcuye a continuación todas las líneas de código y celdas que requieras: ***********\n",
        "dfa = pd.read_csv('amazon5.txt', sep='\\t', names=['review','label'], header=None, encoding='utf-8')\n",
        "dfi = pd.read_csv('imdb5.txt', delimiter='   ', names=['review','label'], header=None, encoding='utf-8', engine='python')\n",
        "dfy = pd.read_csv('yelp5.txt', sep='\\t', names=['review','label'], header=None, encoding='utf-8')\n",
        "\n",
        "df = pd.concat([dfa, dfi, dfy], ignore_index=True)\n",
        "\n",
        "\n",
        "\n",
        "\n",
        "\n",
        "\n",
        "# *********** Aquí termina la sección de agregar código *************\n"
      ]
    },
    {
      "cell_type": "code",
      "execution_count": 5,
      "metadata": {
        "id": "3-w1xMLYnm9b"
      },
      "outputs": [
        {
          "name": "stdout",
          "output_type": "stream",
          "text": [
            "<class 'pandas.core.frame.DataFrame'>\n",
            "RangeIndex: 3000 entries, 0 to 2999\n",
            "Data columns (total 2 columns):\n",
            " #   Column  Non-Null Count  Dtype \n",
            "---  ------  --------------  ----- \n",
            " 0   review  3000 non-null   object\n",
            " 1   label   3000 non-null   int64 \n",
            "dtypes: int64(1), object(1)\n",
            "memory usage: 47.0+ KB\n"
          ]
        }
      ],
      "source": [
        "# Verifiquemos la información del DataFrame:\n",
        "df.info()"
      ]
    },
    {
      "cell_type": "code",
      "execution_count": 6,
      "metadata": {
        "id": "NfVUcYe1nubT"
      },
      "outputs": [
        {
          "data": {
            "text/html": [
              "<div>\n",
              "<style scoped>\n",
              "    .dataframe tbody tr th:only-of-type {\n",
              "        vertical-align: middle;\n",
              "    }\n",
              "\n",
              "    .dataframe tbody tr th {\n",
              "        vertical-align: top;\n",
              "    }\n",
              "\n",
              "    .dataframe thead th {\n",
              "        text-align: right;\n",
              "    }\n",
              "</style>\n",
              "<table border=\"1\" class=\"dataframe\">\n",
              "  <thead>\n",
              "    <tr style=\"text-align: right;\">\n",
              "      <th></th>\n",
              "      <th>review</th>\n",
              "      <th>label</th>\n",
              "    </tr>\n",
              "  </thead>\n",
              "  <tbody>\n",
              "    <tr>\n",
              "      <th>0</th>\n",
              "      <td>So there is no way for me to plug it in here i...</td>\n",
              "      <td>0</td>\n",
              "    </tr>\n",
              "    <tr>\n",
              "      <th>1</th>\n",
              "      <td>Good case, Excellent value.</td>\n",
              "      <td>1</td>\n",
              "    </tr>\n",
              "    <tr>\n",
              "      <th>2</th>\n",
              "      <td>Great for the jawbone.</td>\n",
              "      <td>1</td>\n",
              "    </tr>\n",
              "    <tr>\n",
              "      <th>3</th>\n",
              "      <td>Tied to charger for conversations lasting more...</td>\n",
              "      <td>0</td>\n",
              "    </tr>\n",
              "    <tr>\n",
              "      <th>4</th>\n",
              "      <td>The mic is great.</td>\n",
              "      <td>1</td>\n",
              "    </tr>\n",
              "  </tbody>\n",
              "</table>\n",
              "</div>"
            ],
            "text/plain": [
              "                                              review  label\n",
              "0  So there is no way for me to plug it in here i...      0\n",
              "1                        Good case, Excellent value.      1\n",
              "2                             Great for the jawbone.      1\n",
              "3  Tied to charger for conversations lasting more...      0\n",
              "4                                  The mic is great.      1"
            ]
          },
          "execution_count": 6,
          "metadata": {},
          "output_type": "execute_result"
        }
      ],
      "source": [
        "# Y veamos sus primeros registros:\n",
        "\n",
        "df.head()"
      ]
    },
    {
      "cell_type": "markdown",
      "metadata": {
        "id": "MfZZ0stLmWJN"
      },
      "source": [
        "##**Pregunta - 2:**"
      ]
    },
    {
      "cell_type": "markdown",
      "metadata": {
        "id": "7F6JF5BommZ6"
      },
      "source": [
        "Realiza el proceso de limpieza.\n",
        "\n",
        "Aplica el preprocesamiento que consideres adecuado, sin embargo, deberás aplicar necesariamente alguna de las técnicas de lematización.\n",
        "\n",
        "\n",
        "\n",
        "\n",
        "\n",
        "\n",
        "\n",
        "\n",
        "\n"
      ]
    },
    {
      "cell_type": "code",
      "execution_count": 35,
      "metadata": {},
      "outputs": [
        {
          "name": "stdout",
          "output_type": "stream",
          "text": [
            "Collecting en-core-web-sm==3.7.1\n",
            "  Downloading https://github.com/explosion/spacy-models/releases/download/en_core_web_sm-3.7.1/en_core_web_sm-3.7.1-py3-none-any.whl (12.8 MB)\n",
            "     ---------------------------------------- 0.0/12.8 MB ? eta -:--:--\n",
            "     ---------------------------------------- 0.0/12.8 MB ? eta -:--:--\n",
            "     --------------------------------------- 0.0/12.8 MB 325.1 kB/s eta 0:00:40\n",
            "     --------------------------------------- 0.1/12.8 MB 491.5 kB/s eta 0:00:26\n",
            "      --------------------------------------- 0.2/12.8 MB 1.1 MB/s eta 0:00:12\n",
            "     - -------------------------------------- 0.5/12.8 MB 2.1 MB/s eta 0:00:06\n",
            "     -- ------------------------------------- 0.9/12.8 MB 3.5 MB/s eta 0:00:04\n",
            "     ---- ----------------------------------- 1.5/12.8 MB 4.6 MB/s eta 0:00:03\n",
            "     ------ --------------------------------- 2.0/12.8 MB 5.6 MB/s eta 0:00:02\n",
            "     ------- -------------------------------- 2.6/12.8 MB 6.3 MB/s eta 0:00:02\n",
            "     --------- ------------------------------ 2.9/12.8 MB 6.6 MB/s eta 0:00:02\n",
            "     --------- ------------------------------ 2.9/12.8 MB 6.6 MB/s eta 0:00:02\n",
            "     ------------ --------------------------- 4.0/12.8 MB 7.2 MB/s eta 0:00:02\n",
            "     ------------- -------------------------- 4.4/12.8 MB 7.3 MB/s eta 0:00:02\n",
            "     --------------- ------------------------ 4.9/12.8 MB 7.7 MB/s eta 0:00:02\n",
            "     ----------------- ---------------------- 5.5/12.8 MB 7.9 MB/s eta 0:00:01\n",
            "     ------------------ --------------------- 5.9/12.8 MB 8.2 MB/s eta 0:00:01\n",
            "     ------------------ --------------------- 5.9/12.8 MB 8.2 MB/s eta 0:00:01\n",
            "     ------------------ --------------------- 5.9/12.8 MB 8.2 MB/s eta 0:00:01\n",
            "     ------------------ --------------------- 5.9/12.8 MB 8.2 MB/s eta 0:00:01\n",
            "     --------------------- ------------------ 6.9/12.8 MB 7.9 MB/s eta 0:00:01\n",
            "     ----------------------- ---------------- 7.4/12.8 MB 7.8 MB/s eta 0:00:01\n",
            "     ------------------------- -------------- 8.0/12.8 MB 8.0 MB/s eta 0:00:01\n",
            "     -------------------------- ------------- 8.6/12.8 MB 8.2 MB/s eta 0:00:01\n",
            "     ---------------------------- ----------- 9.1/12.8 MB 8.3 MB/s eta 0:00:01\n",
            "     ------------------------------ --------- 9.6/12.8 MB 8.4 MB/s eta 0:00:01\n",
            "     ------------------------------- -------- 10.2/12.8 MB 8.6 MB/s eta 0:00:01\n",
            "     -------------------------------- ------ 10.8/12.8 MB 10.2 MB/s eta 0:00:01\n",
            "     ---------------------------------- ---- 11.3/12.8 MB 10.2 MB/s eta 0:00:01\n",
            "     ----------------------------------- --- 11.8/12.8 MB 10.2 MB/s eta 0:00:01\n",
            "     ------------------------------------- - 12.4/12.8 MB 10.2 MB/s eta 0:00:01\n",
            "     --------------------------------------- 12.8/12.8 MB 10.2 MB/s eta 0:00:00\n",
            "Requirement already satisfied: spacy<3.8.0,>=3.7.2 in c:\\users\\silvalej\\anaconda3\\lib\\site-packages (from en-core-web-sm==3.7.1) (3.7.4)\n",
            "Requirement already satisfied: spacy-legacy<3.1.0,>=3.0.11 in c:\\users\\silvalej\\anaconda3\\lib\\site-packages (from spacy<3.8.0,>=3.7.2->en-core-web-sm==3.7.1) (3.0.12)\n",
            "Requirement already satisfied: spacy-loggers<2.0.0,>=1.0.0 in c:\\users\\silvalej\\anaconda3\\lib\\site-packages (from spacy<3.8.0,>=3.7.2->en-core-web-sm==3.7.1) (1.0.5)\n",
            "Requirement already satisfied: murmurhash<1.1.0,>=0.28.0 in c:\\users\\silvalej\\anaconda3\\lib\\site-packages (from spacy<3.8.0,>=3.7.2->en-core-web-sm==3.7.1) (1.0.10)\n",
            "Requirement already satisfied: cymem<2.1.0,>=2.0.2 in c:\\users\\silvalej\\anaconda3\\lib\\site-packages (from spacy<3.8.0,>=3.7.2->en-core-web-sm==3.7.1) (2.0.8)\n",
            "Requirement already satisfied: preshed<3.1.0,>=3.0.2 in c:\\users\\silvalej\\anaconda3\\lib\\site-packages (from spacy<3.8.0,>=3.7.2->en-core-web-sm==3.7.1) (3.0.9)\n",
            "Requirement already satisfied: thinc<8.3.0,>=8.2.2 in c:\\users\\silvalej\\anaconda3\\lib\\site-packages (from spacy<3.8.0,>=3.7.2->en-core-web-sm==3.7.1) (8.2.3)\n",
            "Requirement already satisfied: wasabi<1.2.0,>=0.9.1 in c:\\users\\silvalej\\anaconda3\\lib\\site-packages (from spacy<3.8.0,>=3.7.2->en-core-web-sm==3.7.1) (1.1.2)\n",
            "Requirement already satisfied: srsly<3.0.0,>=2.4.3 in c:\\users\\silvalej\\anaconda3\\lib\\site-packages (from spacy<3.8.0,>=3.7.2->en-core-web-sm==3.7.1) (2.4.8)\n",
            "Requirement already satisfied: catalogue<2.1.0,>=2.0.6 in c:\\users\\silvalej\\anaconda3\\lib\\site-packages (from spacy<3.8.0,>=3.7.2->en-core-web-sm==3.7.1) (2.0.10)\n",
            "Requirement already satisfied: weasel<0.4.0,>=0.1.0 in c:\\users\\silvalej\\anaconda3\\lib\\site-packages (from spacy<3.8.0,>=3.7.2->en-core-web-sm==3.7.1) (0.3.4)\n",
            "Requirement already satisfied: typer<0.10.0,>=0.3.0 in c:\\users\\silvalej\\anaconda3\\lib\\site-packages (from spacy<3.8.0,>=3.7.2->en-core-web-sm==3.7.1) (0.9.4)\n",
            "Requirement already satisfied: smart-open<7.0.0,>=5.2.1 in c:\\users\\silvalej\\anaconda3\\lib\\site-packages (from spacy<3.8.0,>=3.7.2->en-core-web-sm==3.7.1) (5.2.1)\n",
            "Requirement already satisfied: tqdm<5.0.0,>=4.38.0 in c:\\users\\silvalej\\anaconda3\\lib\\site-packages (from spacy<3.8.0,>=3.7.2->en-core-web-sm==3.7.1) (4.65.0)\n",
            "Requirement already satisfied: requests<3.0.0,>=2.13.0 in c:\\users\\silvalej\\anaconda3\\lib\\site-packages (from spacy<3.8.0,>=3.7.2->en-core-web-sm==3.7.1) (2.31.0)\n",
            "Requirement already satisfied: pydantic!=1.8,!=1.8.1,<3.0.0,>=1.7.4 in c:\\users\\silvalej\\anaconda3\\lib\\site-packages (from spacy<3.8.0,>=3.7.2->en-core-web-sm==3.7.1) (1.10.12)\n",
            "Requirement already satisfied: jinja2 in c:\\users\\silvalej\\anaconda3\\lib\\site-packages (from spacy<3.8.0,>=3.7.2->en-core-web-sm==3.7.1) (3.1.2)\n",
            "Requirement already satisfied: setuptools in c:\\users\\silvalej\\anaconda3\\lib\\site-packages (from spacy<3.8.0,>=3.7.2->en-core-web-sm==3.7.1) (68.2.2)\n",
            "Requirement already satisfied: packaging>=20.0 in c:\\users\\silvalej\\anaconda3\\lib\\site-packages (from spacy<3.8.0,>=3.7.2->en-core-web-sm==3.7.1) (23.0)\n",
            "Requirement already satisfied: langcodes<4.0.0,>=3.2.0 in c:\\users\\silvalej\\anaconda3\\lib\\site-packages (from spacy<3.8.0,>=3.7.2->en-core-web-sm==3.7.1) (3.4.0)\n",
            "Requirement already satisfied: numpy>=1.19.0 in c:\\users\\silvalej\\anaconda3\\lib\\site-packages (from spacy<3.8.0,>=3.7.2->en-core-web-sm==3.7.1) (1.24.3)\n",
            "Requirement already satisfied: language-data>=1.2 in c:\\users\\silvalej\\anaconda3\\lib\\site-packages (from langcodes<4.0.0,>=3.2.0->spacy<3.8.0,>=3.7.2->en-core-web-sm==3.7.1) (1.2.0)\n",
            "Requirement already satisfied: typing-extensions>=4.2.0 in c:\\users\\silvalej\\anaconda3\\lib\\site-packages (from pydantic!=1.8,!=1.8.1,<3.0.0,>=1.7.4->spacy<3.8.0,>=3.7.2->en-core-web-sm==3.7.1) (4.7.1)\n",
            "Requirement already satisfied: charset-normalizer<4,>=2 in c:\\users\\silvalej\\anaconda3\\lib\\site-packages (from requests<3.0.0,>=2.13.0->spacy<3.8.0,>=3.7.2->en-core-web-sm==3.7.1) (2.0.4)\n",
            "Requirement already satisfied: idna<4,>=2.5 in c:\\users\\silvalej\\anaconda3\\lib\\site-packages (from requests<3.0.0,>=2.13.0->spacy<3.8.0,>=3.7.2->en-core-web-sm==3.7.1) (3.4)\n",
            "Requirement already satisfied: urllib3<3,>=1.21.1 in c:\\users\\silvalej\\anaconda3\\lib\\site-packages (from requests<3.0.0,>=2.13.0->spacy<3.8.0,>=3.7.2->en-core-web-sm==3.7.1) (1.26.18)\n",
            "Requirement already satisfied: certifi>=2017.4.17 in c:\\users\\silvalej\\anaconda3\\lib\\site-packages (from requests<3.0.0,>=2.13.0->spacy<3.8.0,>=3.7.2->en-core-web-sm==3.7.1) (2023.11.17)\n",
            "Requirement already satisfied: blis<0.8.0,>=0.7.8 in c:\\users\\silvalej\\anaconda3\\lib\\site-packages (from thinc<8.3.0,>=8.2.2->spacy<3.8.0,>=3.7.2->en-core-web-sm==3.7.1) (0.7.11)\n",
            "Requirement already satisfied: confection<1.0.0,>=0.0.1 in c:\\users\\silvalej\\anaconda3\\lib\\site-packages (from thinc<8.3.0,>=8.2.2->spacy<3.8.0,>=3.7.2->en-core-web-sm==3.7.1) (0.1.4)\n",
            "Requirement already satisfied: colorama in c:\\users\\silvalej\\anaconda3\\lib\\site-packages (from tqdm<5.0.0,>=4.38.0->spacy<3.8.0,>=3.7.2->en-core-web-sm==3.7.1) (0.4.6)\n",
            "Requirement already satisfied: click<9.0.0,>=7.1.1 in c:\\users\\silvalej\\anaconda3\\lib\\site-packages (from typer<0.10.0,>=0.3.0->spacy<3.8.0,>=3.7.2->en-core-web-sm==3.7.1) (8.0.4)\n",
            "Requirement already satisfied: cloudpathlib<0.17.0,>=0.7.0 in c:\\users\\silvalej\\anaconda3\\lib\\site-packages (from weasel<0.4.0,>=0.1.0->spacy<3.8.0,>=3.7.2->en-core-web-sm==3.7.1) (0.16.0)\n",
            "Requirement already satisfied: MarkupSafe>=2.0 in c:\\users\\silvalej\\anaconda3\\lib\\site-packages (from jinja2->spacy<3.8.0,>=3.7.2->en-core-web-sm==3.7.1) (2.1.1)\n",
            "Requirement already satisfied: marisa-trie>=0.7.7 in c:\\users\\silvalej\\anaconda3\\lib\\site-packages (from language-data>=1.2->langcodes<4.0.0,>=3.2.0->spacy<3.8.0,>=3.7.2->en-core-web-sm==3.7.1) (1.1.1)\n",
            "Installing collected packages: en-core-web-sm\n",
            "Successfully installed en-core-web-sm-3.7.1\n",
            "\u001b[38;5;2m✔ Download and installation successful\u001b[0m\n",
            "You can now load the package via spacy.load('en_core_web_sm')\n"
          ]
        }
      ],
      "source": [
        "!python -m spacy download en_core_web_sm"
      ]
    },
    {
      "cell_type": "code",
      "execution_count": 78,
      "metadata": {
        "id": "TsnvMp-7oYCM"
      },
      "outputs": [],
      "source": [
        "\n",
        "# ******* Inlcuye a continuación todas las líneas de código y celdas que requieras: ***********\n",
        "#wnl = nltk.WordNetLemmatizer()\n",
        "import spacy\n",
        "\n",
        "nlp = spacy.load('en_core_web_sm')\n",
        "def clean_tok(doc):\n",
        "    punctuation = string.punctuation\n",
        "    def remove_stops_digits(tokens):\n",
        "        return([token.lower() for token in tokens if token not in stopwords.words('english') and not token.isdigit() and token not in punctuation and len(token) > 1])\n",
        "    doc = re.sub(r'(?<=[.,])(?=[^\\s])', r' ', doc)\n",
        "    doc = re.sub('[\\!\\\"\\#\\$\\%\\&\\\\\\'\\(\\)\\*\\+\\,\\-\\.\\/:;\\<\\=\\>\\?\\@\\[\\\\\\\\\\]\\^\\_\\`\\{\\|\\}\\~]','',doc)\n",
        "    tmp_tok = nlp(doc)\n",
        "    tmp_tok = [token.lemma_ for token in tmp_tok]\n",
        "    tmp_tok = ' '.join(tmp_tok)\n",
        "    tokens = remove_stops_digits(word_tokenize(tmp_tok))\n",
        "    return(tokens)\n",
        "X = df.review     # Serie de strings\n",
        "Y = df.label      # Serie de enteros 0s y 1s\n",
        "Xclean = [clean_tok(x) for x in X] \n",
        "\n",
        "\n",
        "\n",
        "# *********** Aquí termina la sección de agregar código *************"
      ]
    },
    {
      "cell_type": "code",
      "execution_count": 76,
      "metadata": {},
      "outputs": [
        {
          "data": {
            "text/plain": [
              "'!\"#$%&\\'()*+,-./:;<=>?@[\\\\]^_`{|}~'"
            ]
          },
          "execution_count": 76,
          "metadata": {},
          "output_type": "execute_result"
        }
      ],
      "source": [
        "string.punctuation\n",
        "\n"
      ]
    },
    {
      "cell_type": "code",
      "execution_count": 79,
      "metadata": {
        "id": "7jlQuoI2o33T"
      },
      "outputs": [
        {
          "name": "stdout",
          "output_type": "stream",
          "text": [
            "['way', 'plug', 'us', 'unless', 'go', 'converter']\n",
            "['good', 'case', 'excellent', 'value']\n",
            "['great', 'jawbone']\n",
            "['tie', 'charger', 'conversation', 'last', 'minute', 'major', 'problems']\n",
            "['mic', 'great']\n",
            "['jiggle', 'plug', 'get', 'line', 'right', 'get', 'decent', 'volume']\n",
            "['several', 'dozen', 'several', 'hundred', 'contact', 'imagine', 'fun', 'send', 'one', 'one']\n",
            "['razr', 'owner', 'must']\n",
            "['needless', 'say', 'waste', 'money']\n",
            "['waste', 'money', 'time']\n",
            "['sound', 'quality', 'great']\n",
            "['impressed', 'go', 'original', 'battery', 'extended', 'battery']\n",
            "['two', 'seperate', 'mere', 'ft', 'start', 'notice', 'excessive', 'static', 'garbled', 'sound', 'headset']\n",
            "['good', 'quality', 'though']\n",
            "['design', 'odd', 'ear', 'clip', 'comfortable']\n",
            "['highly', 'recommend', 'one', 'blue', 'tooth', 'phone']\n",
            "['advise', 'everyone', 'fool']\n",
            "['far', 'good']\n",
            "['work', 'great']\n",
            "['click', 'place', 'way', 'make', 'wonder', 'long', 'mechanism', 'would', 'last']\n",
            "['go', 'motorolas', 'website', 'follow', 'direction', 'could', 'get', 'pair']\n",
            "['buy', 'use', 'kindle', 'fire', 'absolutely', 'love']\n",
            "['commercial', 'misleading']\n",
            "['yet', 'run', 'new', 'battery', 'two', 'bar', 'three', 'day', 'without', 'charge']\n",
            "['buy', 'mother', 'problem', 'battery']\n",
            "['great', 'pocket', 'pc', 'phone', 'combination']\n",
            "['phone', 'month', 'say', 'good', 'mobile', 'phone']\n",
            "['think', 'instruction', 'provide', 'helpful']\n",
            "['people', 'could', 'hear', 'talk', 'pull', 'earphone', 'talk', 'phone']\n",
            "['hold', 'charge']\n",
            "['simple', 'little', 'phone', 'use', 'breakage', 'unacceptible']\n",
            "['product', 'ideal', 'people', 'like', 'whose', 'ear', 'sensitive']\n",
            "['unusable', 'move', 'car', 'freeway', 'speed']\n",
            "['two', 'year', 'leave', 'contract', 'hate', 'phone']\n",
            "['car', 'charger', 'well', 'ac', 'charger', 'include', 'make', 'sure', 'never', 'run', 'juice', 'highy', 'recommend']\n",
            "['need', 'least', 'min', 'get', 'phone', 'book', 'time', 'first', 'turn', 'phone', 'battery', 'life', 'short']\n",
            "['keep', 'well']\n",
            "['poor', 'talk', 'time', 'performance']\n",
            "['case', 'great', 'work', 'fine']\n",
            "['worthless', 'product']\n",
            "['great', 'camera', '2mp', 'pic', 'nice', 'clear', 'great', 'picture', 'quality']\n",
            "['impressed', 'product']\n",
            "['nice', 'headset', 'price', 'right']\n",
            "['hear', 'garbage', 'audio']\n",
            "['excellent', 'bluetooth', 'headset']\n",
            "['feature', 'want']\n",
            "['right', 'mind', 'go', 'buy', 'battery']\n",
            "['argue', 'verizon', 'regard', 'dropped', 'call', 'return', 'phones', 'two', 'day']\n",
            "['case', 'seem', 'well', 'make']\n",
            "['disappoint', 'battery']\n"
          ]
        }
      ],
      "source": [
        "# Despleguemos los primeros comentarios después de tu proceso de limpieza:\n",
        "\n",
        "for x in Xclean[0:50]:\n",
        "  print(x)\n"
      ]
    },
    {
      "cell_type": "markdown",
      "metadata": {
        "id": "ygchEdcKqIzU"
      },
      "source": [
        "#**Pregunta - 3:**\n"
      ]
    },
    {
      "cell_type": "markdown",
      "metadata": {
        "id": "7wEIOkkl9Dot"
      },
      "source": [
        "\n",
        "Realicemos una partición aleatoria con los mismos porcentajes de la práctica pasada para poder comparar dichos resultados con los de\n",
        "esta actividad, a saber, 70%, 15% y 15%, para entrenamiento, validación y prueba, respectivamente."
      ]
    },
    {
      "cell_type": "code",
      "execution_count": 80,
      "metadata": {
        "id": "b0SAcYdq9X0w"
      },
      "outputs": [
        {
          "name": "stdout",
          "output_type": "stream",
          "text": [
            "X,y Train: 2100 2100\n",
            "X,y Val: 450 450\n",
            "X,y Test 450 450\n"
          ]
        }
      ],
      "source": [
        "\n",
        "# ************* Inicia la sección de agregar código:*****************************\n",
        "\n",
        "x_train, x_val_and_test, y_train, y_val_and_test = train_test_split(Xclean, Y, train_size=.70, shuffle=True, random_state=1) \n",
        "x_val, x_test, y_val, y_test = train_test_split(x_val_and_test, y_val_and_test, test_size=.50, shuffle=True, random_state=17)\n",
        "\n",
        "# *********** Termina la sección de agregar código *************\n",
        "\n",
        "\n",
        "# verificemos las dimensiones obtenidas:\n",
        "print('X,y Train:', len(x_train), len(y_train))\n",
        "print('X,y Val:', len(x_val), len(y_val))\n",
        "print('X,y Test', len(x_test), len(y_test))"
      ]
    },
    {
      "cell_type": "markdown",
      "metadata": {
        "id": "1qjKoEqiqBN1"
      },
      "source": [
        "#**Pregunta - 4:**"
      ]
    },
    {
      "cell_type": "markdown",
      "metadata": {
        "id": "jENsKiN99r3F"
      },
      "source": [
        "\n",
        "\n",
        "Construye tu vocabulario a continuación\n"
      ]
    },
    {
      "cell_type": "code",
      "execution_count": null,
      "metadata": {
        "id": "TzJntmLPqPqC"
      },
      "outputs": [],
      "source": [
        "# a.\tUsa el conjunto de entrenamiento para generar tu vocabulario\n",
        "#     con un tamaño que consideres adecuado:\n",
        "\n",
        "\n",
        "# ******* Inlcuye a continuación todas las líneas de código y celdas que requieras: ***********\n",
        "\n",
        "\n",
        "\n",
        "\n",
        "\n",
        "# *********** Aquí termina la sección de agregar código *************"
      ]
    },
    {
      "cell_type": "code",
      "execution_count": null,
      "metadata": {
        "id": "yTDZ0Rr86CUP"
      },
      "outputs": [],
      "source": [
        "# b.\tIndica el tamaño del vocabulario generado.\n",
        "\n",
        "print('Longitud del vocabulario generado:')\n",
        "\n",
        "\n",
        "# ******* Inicia la sección de agregar código: ***********\n",
        "\n",
        "\n",
        "None\n",
        "\n",
        "\n",
        "# *********** Aquí termina la sección de agregar código *************"
      ]
    },
    {
      "cell_type": "markdown",
      "metadata": {
        "id": "NDa4EhTqrw15"
      },
      "source": [
        "c.\t¿Por qué debe usarse solamente el conjunto de entrenamiento para generar el vocabulario?\n",
        "\n",
        "\n",
        "### ++++++++ Inicia la sección de agregar texto: +++++++++++\n",
        "\n",
        "None\n",
        "\n",
        "### ++++++++ Termina la sección de agregar texto: +++++++++++\n"
      ]
    },
    {
      "cell_type": "code",
      "execution_count": null,
      "metadata": {
        "id": "7ykjxQI3rpxx"
      },
      "outputs": [],
      "source": [
        "# d.\tCon el vocabulario generado, filtra los conjuntos de entrenamiento,\n",
        "#     validación y prueba para que todos los comentarios usen solamente las\n",
        "#     palabras de este vocabulario.\n",
        "\n",
        "#     Llamar train_x, val_x y test_x a estos tres conjuntos.\n",
        "\n",
        "\n",
        "# ******* Inlcuye a continuación todas las líneas de código y celdas que requieras: ***********\n",
        "\n",
        "\n",
        "None\n",
        "\n",
        "\n",
        "# *********** Aquí termina la sección de agregar código *************\n"
      ]
    },
    {
      "cell_type": "code",
      "execution_count": null,
      "metadata": {
        "id": "iYF2RGuPtQTC"
      },
      "outputs": [],
      "source": [
        "# Vemos el resultado de los primeros comentarios del conjunto de entrenamiento:\n",
        "\n",
        "for ss in train_x[0:5]:\n",
        "  print(ss)"
      ]
    },
    {
      "cell_type": "markdown",
      "metadata": {
        "id": "RS0Hxj25vTWh"
      },
      "source": [
        "#**Pregunta - 5:**"
      ]
    },
    {
      "cell_type": "markdown",
      "metadata": {
        "id": "CnHHAza5_P5Z"
      },
      "source": [
        "\n",
        "a. Incluye una tabla comparativa de pros y contras entre los modelos FastText, word2vec de Google y Glove de Stanford."
      ]
    },
    {
      "cell_type": "markdown",
      "metadata": {
        "id": "uTI9xSgF_Xc8"
      },
      "source": [
        "### ++++++++ Inicia la sección de agregar texto: +++++++++++\n",
        "\n",
        "None\n",
        "\n",
        "### ++++++++ Termina la sección de agregar texto: +++++++++++\n"
      ]
    },
    {
      "cell_type": "markdown",
      "metadata": {
        "id": "ToqRl7fT_fn2"
      },
      "source": [
        "#**Pregunta - 6:**\n",
        "\n",
        "Utiliza el modelo FastText de vectores embebidos pre-entrenados de dimensión 300 para generar un nuevo diccionario clave-valor, donde la “clave” será cada token o palabra de tu vocabulario y el “valor” será su vector embebido de dimensión 300.\n",
        "\n",
        "Este diccionario deberá ser del mismo tamaño que el vocabulario previo que hayas construido previamente.\n",
        "\n",
        "Es recomendable que una vez que generes el nuevo vocabulario de vectores embebidos, guardes dicho diccionario en un archivo.\n",
        "\n",
        "Recuerda borrar la variable donde descargaste los 2 millones de vectores embebidos Fasttext.\n",
        "\n"
      ]
    },
    {
      "cell_type": "code",
      "execution_count": null,
      "metadata": {
        "id": "UdK-jMfLxHLY"
      },
      "outputs": [],
      "source": [
        "# ******* Inlcuye a continuación todas las líneas de código y celdas que requieras: ***********\n",
        "\n",
        "\n",
        "None\n",
        "\n",
        "\n",
        "# *********** Aquí termina la sección de agregar código *************"
      ]
    },
    {
      "cell_type": "markdown",
      "metadata": {
        "id": "W4S7q0yR0Mpi"
      },
      "source": [
        "#**Pregunta - 7:**"
      ]
    },
    {
      "cell_type": "markdown",
      "metadata": {
        "id": "VyeOrkoaC1eq"
      },
      "source": [
        "\n",
        "\n",
        "Generamos los vectores embebidos a paertir de los conjuntos de entrenamiento, validación y preuba.\n",
        "\n",
        "Los llamaremos trainEmb, valEmb y testEmb, respectivamente."
      ]
    },
    {
      "cell_type": "code",
      "execution_count": null,
      "metadata": {
        "id": "wnfQpkxg0Usq"
      },
      "outputs": [],
      "source": [
        "# ******* Inlcuye a continuación todas las líneas de código y celdas que requieras: ***********\n",
        "\n",
        "\n",
        "None\n",
        "\n",
        "\n",
        "# *********** Aquí termina la sección de agregar código *************"
      ]
    },
    {
      "cell_type": "code",
      "execution_count": null,
      "metadata": {
        "id": "J3BBF96D0N8Z"
      },
      "outputs": [],
      "source": [
        "# Veamos las dimensiones de cada conjunto embebido:\n",
        "\n",
        "print(\"Train-Emb:\", trainEmb.shape)\n",
        "print(\"Val-Emb:\", valEmb.shape)\n",
        "print(\"Test-Emb:\", testEmb.shape)"
      ]
    },
    {
      "cell_type": "markdown",
      "metadata": {
        "id": "pibp1LA91CP_"
      },
      "source": [
        "#**Pregunta - 8:**\n"
      ]
    },
    {
      "cell_type": "markdown",
      "metadata": {
        "id": "UxC9K0VnGOwG"
      },
      "source": [
        "\n",
        "Utiliza los modelos de regresión logística y bosque aleatorio (random forest) y encuentra sus desempeños.\n",
        "\n",
        "Compara los resultados con los de la semana anterior."
      ]
    },
    {
      "cell_type": "code",
      "execution_count": null,
      "metadata": {
        "id": "ycwjD8ztGOL7"
      },
      "outputs": [],
      "source": [
        "# REGRESIÓN LOGÍSTICA:\n",
        "\n",
        "# ******* Inlcuye a continuación todas las líneas de código y celdas que requieras: ***********\n",
        "\n",
        "\n",
        "None\n",
        "\n",
        "\n",
        "# *********** Aquí termina la sección de agregar código *************\n"
      ]
    },
    {
      "cell_type": "code",
      "execution_count": null,
      "metadata": {
        "id": "N4n70GHW0sl3"
      },
      "outputs": [],
      "source": [
        "# BOSQUE ALEATORIO (Random Forest):\n",
        "\n",
        "# ******* Inlcuye a continuación todas las líneas de código y celdas que requieras: ***********\n",
        "\n",
        "\n",
        "None\n",
        "\n",
        "\n",
        "# *********** Aquí termina la sección de agregar código *************"
      ]
    },
    {
      "cell_type": "markdown",
      "metadata": {
        "id": "WDIiSHvg0_hm"
      },
      "source": [
        "#**Pregunta - 9:**"
      ]
    },
    {
      "cell_type": "markdown",
      "metadata": {
        "id": "dJJtALGZHrGk"
      },
      "source": [
        "\n",
        "\n",
        "Reporte del mejor modelo.\n"
      ]
    },
    {
      "cell_type": "code",
      "execution_count": null,
      "metadata": {
        "id": "ETv4VLjP1GYt"
      },
      "outputs": [],
      "source": [
        "# ******* Inlcuye a continuación todas las líneas de código y celdas que requieras: ***********\n",
        "\n",
        "\n",
        "None\n",
        "\n",
        "\n",
        "# *********** Aquí termina la sección de agregar código *************"
      ]
    },
    {
      "cell_type": "markdown",
      "metadata": {
        "id": "YCkh2WfN1MC1"
      },
      "source": [
        "#**Pregunta - 10:**"
      ]
    },
    {
      "cell_type": "markdown",
      "metadata": {
        "id": "4ySFuDQtVuK5"
      },
      "source": [
        "\n",
        "\n",
        "Incluye tus comentarios finales de la actividad.\n",
        "\n",
        "### ++++++++ Inicia la sección de agregar texto: +++++++++++\n",
        "\n",
        "None\n",
        "\n",
        "### ++++++++ Termina la sección de agregar texto: +++++++++++"
      ]
    },
    {
      "cell_type": "markdown",
      "metadata": {
        "id": "bgKHmQTbWJT1"
      },
      "source": [
        "##**Fin de la Actividad de vectores Embebidos - FastText**"
      ]
    }
  ],
  "metadata": {
    "colab": {
      "provenance": []
    },
    "kernelspec": {
      "display_name": "Python 3",
      "name": "python3"
    },
    "language_info": {
      "codemirror_mode": {
        "name": "ipython",
        "version": 3
      },
      "file_extension": ".py",
      "mimetype": "text/x-python",
      "name": "python",
      "nbconvert_exporter": "python",
      "pygments_lexer": "ipython3",
      "version": "3.9.18"
    }
  },
  "nbformat": 4,
  "nbformat_minor": 0
}
